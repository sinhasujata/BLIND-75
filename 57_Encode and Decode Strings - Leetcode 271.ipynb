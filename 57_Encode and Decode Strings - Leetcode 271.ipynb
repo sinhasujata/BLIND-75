{
 "cells": [
  {
   "cell_type": "code",
   "execution_count": null,
   "id": "d2101a3f-a0da-4861-bde9-bd8e9723b60f",
   "metadata": {},
   "outputs": [],
   "source": [
    "class Codec:\n",
    "    def encode(self, strs: List[str]) -> str:\n",
    "        \"\"\"Encodes a list of strings to a single string.\n",
    "        \"\"\"\n",
    "        # we can separate strings using something like '#', but it might be possible that some word might have this charac\n",
    "        # we can count the length of each string and save that no,\n",
    "        # as we are not allowed to use separate memory to encode decode string, we can save the length before the string and place '#'\n",
    "        # after it.\n",
    "        \n",
    "        # both encode and decode will be done with O(n) time complexity\n",
    "        res = \"\"\n",
    "        for s in strs:\n",
    "            res += str(len(s)) + \"#\" + s\n",
    "        return res\n",
    "\n",
    "    def decode(self, s: str) -> List[str]:\n",
    "        \"\"\"Decodes a single string to a list of strings.\n",
    "        \"\"\"\n",
    "        res, i = [], 0\n",
    "        while i < len(s):\n",
    "            \n",
    "            j = i\n",
    "            while s[j] != \"#\":\n",
    "                j+=1\n",
    "            length = int(s[i:j])\n",
    "            res.append(s[j+1: j+1+length])\n",
    "            i = j + 1 + length\n",
    "        return res\n",
    "\n",
    "\n",
    "# Your Codec object will be instantiated and called as such:\n",
    "# codec = Codec()\n",
    "# codec.decode(codec.encode(strs))"
   ]
  }
 ],
 "metadata": {
  "kernelspec": {
   "display_name": "Python 3 (ipykernel)",
   "language": "python",
   "name": "python3"
  },
  "language_info": {
   "codemirror_mode": {
    "name": "ipython",
    "version": 3
   },
   "file_extension": ".py",
   "mimetype": "text/x-python",
   "name": "python",
   "nbconvert_exporter": "python",
   "pygments_lexer": "ipython3",
   "version": "3.12.4"
  }
 },
 "nbformat": 4,
 "nbformat_minor": 5
}
