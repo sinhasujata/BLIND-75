{
 "cells": [
  {
   "cell_type": "code",
   "execution_count": null,
   "id": "aec22648-aa9c-458a-90f7-583e1c2d7cfa",
   "metadata": {},
   "outputs": [],
   "source": [
    "class TrieNode:\n",
    "    def __init__(self):\n",
    "        self.children = {}\n",
    "        self.isWord = False\n",
    "        \n",
    "    def addWord(self, word):\n",
    "        cur = self\n",
    "        for c in word:\n",
    "            if c not in cur.children:\n",
    "                cur.children[c] = TrieNode()\n",
    "            cur = cur.children[c]\n",
    "        cur.isWord = True\n",
    "        \n",
    "class Solution:\n",
    "    def findWords(self, board: List[List[str]], words: List[str]) -> List[str]:\n",
    "        root = TrieNode()\n",
    "        for w in words:\n",
    "            root.addWord(w)\n",
    "        \n",
    "        rows, cols = len(board), len(board[0])\n",
    "        res, visit = set(), set()\n",
    "        \n",
    "        def dfs(r, c, node, word):\n",
    "            if (r<0 or c<0 or\n",
    "               r == rows or c==cols or\n",
    "               (r,c) in visit or board[r][c] not in node.children):\n",
    "                return\n",
    "            \n",
    "            visit.add((r,c))\n",
    "            node = node.children[board[r][c]]\n",
    "            word += board[r][c]\n",
    "            if node.isWord:\n",
    "                res.add(word)\n",
    "                \n",
    "            dfs(r-1, c, node, word)\n",
    "            dfs(r+1, c, node, word)\n",
    "            dfs(r, c-1, node, word)\n",
    "            dfs(r, c+1, node, word)\n",
    "            \n",
    "            visit.remove((r,c))\n",
    "            \n",
    "        for r in range(rows):\n",
    "            for c in range(cols):\n",
    "                dfs(r, c, root, \"\")\n",
    "                \n",
    "        return list(res)"
   ]
  }
 ],
 "metadata": {
  "kernelspec": {
   "display_name": "Python 3 (ipykernel)",
   "language": "python",
   "name": "python3"
  },
  "language_info": {
   "codemirror_mode": {
    "name": "ipython",
    "version": 3
   },
   "file_extension": ".py",
   "mimetype": "text/x-python",
   "name": "python",
   "nbconvert_exporter": "python",
   "pygments_lexer": "ipython3",
   "version": "3.12.4"
  }
 },
 "nbformat": 4,
 "nbformat_minor": 5
}
