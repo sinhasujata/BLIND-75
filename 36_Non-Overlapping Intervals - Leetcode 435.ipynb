{
 "cells": [
  {
   "cell_type": "code",
   "execution_count": null,
   "id": "3106bb73-1b9e-41b7-86d4-856d16802d40",
   "metadata": {},
   "outputs": [],
   "source": [
    "class Solution:\n",
    "    def eraseOverlapIntervals(self, intervals: List[List[int]]) -> int:\n",
    "        intervals.sort()\n",
    "        \n",
    "        result = 0\n",
    "        prevEnd = intervals[0][1]\n",
    "        for start, end in intervals[1:]:\n",
    "            # for non overlapping\n",
    "            if start >= prevEnd:\n",
    "                prevEnd = end\n",
    "            else:\n",
    "                result += 1 #we have to remove one interval\n",
    "                prevEnd = min(end, prevEnd) # we will keep the shorter one as there will be lesser chance of intersection\n",
    "                \n",
    "        return result"
   ]
  }
 ],
 "metadata": {
  "kernelspec": {
   "display_name": "Python 3 (ipykernel)",
   "language": "python",
   "name": "python3"
  },
  "language_info": {
   "codemirror_mode": {
    "name": "ipython",
    "version": 3
   },
   "file_extension": ".py",
   "mimetype": "text/x-python",
   "name": "python",
   "nbconvert_exporter": "python",
   "pygments_lexer": "ipython3",
   "version": "3.12.4"
  }
 },
 "nbformat": 4,
 "nbformat_minor": 5
}
