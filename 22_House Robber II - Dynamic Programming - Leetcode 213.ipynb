{
 "cells": [
  {
   "cell_type": "code",
   "execution_count": null,
   "id": "24d1f353-27cb-4148-b834-fb15ba5f018f",
   "metadata": {},
   "outputs": [],
   "source": [
    "class Solution:\n",
    "    def rob(self, nums: List[int]) -> int:\n",
    "        return max(nums[0], self.rob_house(nums[1:]), self.rob_house(nums[:-1]))\n",
    "    \n",
    "    def rob_house(self, nums):\n",
    "        house1, house2 = 0, 0\n",
    "            \n",
    "        for i in nums:\n",
    "            temp = max(house1 + i, house2)\n",
    "            house1 = house2\n",
    "            house2 = temp\n",
    "                \n",
    "        return house2"
   ]
  }
 ],
 "metadata": {
  "kernelspec": {
   "display_name": "Python 3 (ipykernel)",
   "language": "python",
   "name": "python3"
  },
  "language_info": {
   "codemirror_mode": {
    "name": "ipython",
    "version": 3
   },
   "file_extension": ".py",
   "mimetype": "text/x-python",
   "name": "python",
   "nbconvert_exporter": "python",
   "pygments_lexer": "ipython3",
   "version": "3.12.4"
  }
 },
 "nbformat": 4,
 "nbformat_minor": 5
}
