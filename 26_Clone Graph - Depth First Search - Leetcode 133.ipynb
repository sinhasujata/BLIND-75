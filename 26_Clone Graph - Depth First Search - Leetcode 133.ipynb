{
 "cells": [
  {
   "cell_type": "code",
   "execution_count": null,
   "id": "2fabccef-f778-41fa-9b3d-527823a3a5a8",
   "metadata": {},
   "outputs": [],
   "source": [
    "\"\"\"\n",
    "# Definition for a Node.\n",
    "class Node:\n",
    "    def __init__(self, val = 0, neighbors = None):\n",
    "        self.val = val\n",
    "        self.neighbors = neighbors if neighbors is not None else []\n",
    "\"\"\"\n",
    "\n",
    "from typing import Optional\n",
    "class Solution:\n",
    "    def cloneGraph(self, node: Optional['Node']) -> Optional['Node']:\n",
    "        \n",
    "        OldtoClone = dict()\n",
    "        \n",
    "        def dfs(node):\n",
    "            if node in OldtoClone:\n",
    "                return OldtoClone[node]\n",
    "            \n",
    "            clone = Node(node.val)\n",
    "            OldtoClone[node] = clone\n",
    "            \n",
    "            for nei in node.neighbors:\n",
    "                clone.neighbors.append(dfs(nei))\n",
    "            \n",
    "            return clone\n",
    "        return dfs(node) if node else None\n",
    "            \n",
    "            "
   ]
  }
 ],
 "metadata": {
  "kernelspec": {
   "display_name": "Python 3 (ipykernel)",
   "language": "python",
   "name": "python3"
  },
  "language_info": {
   "codemirror_mode": {
    "name": "ipython",
    "version": 3
   },
   "file_extension": ".py",
   "mimetype": "text/x-python",
   "name": "python",
   "nbconvert_exporter": "python",
   "pygments_lexer": "ipython3",
   "version": "3.12.4"
  }
 },
 "nbformat": 4,
 "nbformat_minor": 5
}
