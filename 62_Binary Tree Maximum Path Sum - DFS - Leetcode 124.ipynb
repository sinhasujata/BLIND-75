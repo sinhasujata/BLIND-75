{
 "cells": [
  {
   "cell_type": "code",
   "execution_count": null,
   "id": "818bc64d-e863-4303-9c33-8d345d9cee20",
   "metadata": {},
   "outputs": [],
   "source": [
    "# Definition for a binary tree node.\n",
    "# class TreeNode:\n",
    "#     def __init__(self, val=0, left=None, right=None):\n",
    "#         self.val = val\n",
    "#         self.left = left\n",
    "#         self.right = right\n",
    "class Solution:\n",
    "    def maxPathSum(self, root: Optional[TreeNode]) -> int:\n",
    "        res = [root.val]\n",
    "        def dfs(root):\n",
    "            if not root:\n",
    "                return 0\n",
    "            \n",
    "            # compute max path with split\n",
    "            leftMax = dfs(root.left)\n",
    "            rightMax = dfs(root.right)\n",
    "            \n",
    "            leftMax = max(leftMax, 0)\n",
    "            rightMax = max(rightMax, 0)\n",
    "            \n",
    "            # compute max path without split\n",
    "            res[0] = max(res[0], root.val + leftMax + rightMax)\n",
    "            \n",
    "            return root.val + max(leftMax, rightMax)\n",
    "        dfs(root)\n",
    "        return res[0]"
   ]
  }
 ],
 "metadata": {
  "kernelspec": {
   "display_name": "Python 3 (ipykernel)",
   "language": "python",
   "name": "python3"
  },
  "language_info": {
   "codemirror_mode": {
    "name": "ipython",
    "version": 3
   },
   "file_extension": ".py",
   "mimetype": "text/x-python",
   "name": "python",
   "nbconvert_exporter": "python",
   "pygments_lexer": "ipython3",
   "version": "3.12.4"
  }
 },
 "nbformat": 4,
 "nbformat_minor": 5
}
