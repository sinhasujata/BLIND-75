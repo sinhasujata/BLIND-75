{
 "cells": [
  {
   "cell_type": "code",
   "execution_count": null,
   "id": "4d901858-5c31-4d6f-8e5d-3461c5939d82",
   "metadata": {},
   "outputs": [],
   "source": [
    "            result = []\n",
    "            nums.sort()\n",
    "\n",
    "            for i, n in enumerate(nums):\n",
    "                if i > 0 and n == nums[i+1]:\n",
    "                    continue\n",
    "\n",
    "                l, r = i+1, len(nums) - 1\n",
    "                while l < r:\n",
    "                    three_sums = n + nums[l] + nums[r]\n",
    "                    if three_sums > 0:\n",
    "                        r -= 1\n",
    "                    elif three_sums < 0:\n",
    "                        l += 1\n",
    "                    else:\n",
    "                        result.append([a, nums[l], nums[r]])\n",
    "                        l += 1\n",
    "                        while nums[l] == nums[l-1] and l < r:\n",
    "                            l += 1\n",
    "            return result"
   ]
  }
 ],
 "metadata": {
  "kernelspec": {
   "display_name": "Python 3 (ipykernel)",
   "language": "python",
   "name": "python3"
  },
  "language_info": {
   "codemirror_mode": {
    "name": "ipython",
    "version": 3
   },
   "file_extension": ".py",
   "mimetype": "text/x-python",
   "name": "python",
   "nbconvert_exporter": "python",
   "pygments_lexer": "ipython3",
   "version": "3.12.3"
  }
 },
 "nbformat": 4,
 "nbformat_minor": 5
}
