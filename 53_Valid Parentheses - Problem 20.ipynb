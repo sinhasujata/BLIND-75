{
 "cells": [
  {
   "cell_type": "code",
   "execution_count": null,
   "id": "6ca51af4-1a84-49de-9068-ad3b3f77760f",
   "metadata": {},
   "outputs": [],
   "source": [
    "class Solution:\n",
    "    def isValid(self, s: str) -> bool:\n",
    "        #stack\n",
    "        # if len(s)<2:\n",
    "        #     return False\n",
    "        \n",
    "        s_brack = []\n",
    "        dict_bracket = {']':'[' , ')':'(' ,'}':'{'}\n",
    "        \n",
    "        for char in s:\n",
    "                        \n",
    "            if char in dict_bracket:\n",
    "                # if top element matches with closing bracket then pop that otherwise assign some dummy value\n",
    "                top_element = s_brack.pop() if s_brack else '#'\n",
    "                \n",
    "                if dict_bracket[char] != top_element:\n",
    "                    return False\n",
    "            else:\n",
    "                s_brack.append(char)\n",
    "                \n",
    "        return not s_brack\n",
    "                \n",
    "           "
   ]
  }
 ],
 "metadata": {
  "kernelspec": {
   "display_name": "Python 3 (ipykernel)",
   "language": "python",
   "name": "python3"
  },
  "language_info": {
   "codemirror_mode": {
    "name": "ipython",
    "version": 3
   },
   "file_extension": ".py",
   "mimetype": "text/x-python",
   "name": "python",
   "nbconvert_exporter": "python",
   "pygments_lexer": "ipython3",
   "version": "3.12.4"
  }
 },
 "nbformat": 4,
 "nbformat_minor": 5
}
