{
 "cells": [
  {
   "cell_type": "code",
   "execution_count": null,
   "id": "f9c939b6-59e5-4da3-8b6c-6d2834127521",
   "metadata": {},
   "outputs": [],
   "source": [
    "class Solution:\n",
    "    def combinationSum(self, candidates: List[int], target: int) -> List[List[int]]:\n",
    "        # recurrsive\n",
    "        result = []\n",
    "        \n",
    "        def dfs(i, curr, total):\n",
    "            if total == target:\n",
    "                result.append(curr.copy())\n",
    "                return\n",
    "            if total>target or i >= len(candidates):\n",
    "                return\n",
    "            \n",
    "            curr.append(candidates[i])\n",
    "            dfs(i, curr, total+candidates[i])\n",
    "            curr.pop()\n",
    "            dfs(i+1, curr, total)\n",
    "            \n",
    "        dfs(0, [], 0)\n",
    "        \n",
    "        return result"
   ]
  }
 ],
 "metadata": {
  "kernelspec": {
   "display_name": "Python 3 (ipykernel)",
   "language": "python",
   "name": "python3"
  },
  "language_info": {
   "codemirror_mode": {
    "name": "ipython",
    "version": 3
   },
   "file_extension": ".py",
   "mimetype": "text/x-python",
   "name": "python",
   "nbconvert_exporter": "python",
   "pygments_lexer": "ipython3",
   "version": "3.12.4"
  }
 },
 "nbformat": 4,
 "nbformat_minor": 5
}
