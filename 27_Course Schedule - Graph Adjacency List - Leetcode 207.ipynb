{
 "cells": [
  {
   "cell_type": "code",
   "execution_count": null,
   "id": "00667179-a0db-41c5-9b7a-0dd0c5974d50",
   "metadata": {},
   "outputs": [],
   "source": [
    "class Solution:\n",
    "    def canFinish(self, numCourses: int, prerequisites: List[List[int]]) -> bool:\n",
    "        # Map each course to prerequisite list\n",
    "        preReqMap = {i:[] for i in range(numCourses)}\n",
    "        \n",
    "        for course, pre in prerequisites:\n",
    "            preReqMap[course].append(pre)\n",
    "            \n",
    "        # set with visited courses\n",
    "        visitCourse = set()\n",
    "        \n",
    "        def dfs(course):\n",
    "            if course in visitCourse:\n",
    "                return False  #if some course is in a loop\n",
    "            if preReqMap[course] == []:\n",
    "                return True\n",
    "            \n",
    "            visitCourse.add(course)\n",
    "            \n",
    "            for pre in preReqMap[course]:\n",
    "                if not dfs(pre): return False # if some course is in loop\n",
    "                \n",
    "            visitCourse.remove(course)\n",
    "            preReqMap[course] = []\n",
    "            return True\n",
    "        \n",
    "        # we need to look for all courses as some courses might not be linked [1,2][3,4]\n",
    "        for course in range(numCourses):\n",
    "            if not dfs(course): return False\n",
    "        return True\n",
    "                \n",
    "        "
   ]
  }
 ],
 "metadata": {
  "kernelspec": {
   "display_name": "Python 3 (ipykernel)",
   "language": "python",
   "name": "python3"
  },
  "language_info": {
   "codemirror_mode": {
    "name": "ipython",
    "version": 3
   },
   "file_extension": ".py",
   "mimetype": "text/x-python",
   "name": "python",
   "nbconvert_exporter": "python",
   "pygments_lexer": "ipython3",
   "version": "3.12.4"
  }
 },
 "nbformat": 4,
 "nbformat_minor": 5
}
