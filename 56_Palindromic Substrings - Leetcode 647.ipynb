{
 "cells": [
  {
   "cell_type": "code",
   "execution_count": null,
   "id": "8dd432a7-0322-47ab-badb-f2efa72cec9f",
   "metadata": {},
   "outputs": [],
   "source": [
    "class Solution:\n",
    "    def countSubstrings(self, s: str) -> int:\n",
    "        count = 0\n",
    "        for i in range(len(s)):\n",
    "            count += self.countP(s,i,i) #odd\n",
    "            count += self.countP(s, i, i+1) #even\n",
    "        return count\n",
    "    \n",
    "    def countP(self, s, l, r):\n",
    "        res = 0\n",
    "        while l >= 0 and r < len(s) and s[l]==s[r]:\n",
    "            res += 1\n",
    "            l -= 1\n",
    "            r += 1\n",
    "        return res"
   ]
  }
 ],
 "metadata": {
  "kernelspec": {
   "display_name": "Python 3 (ipykernel)",
   "language": "python",
   "name": "python3"
  },
  "language_info": {
   "codemirror_mode": {
    "name": "ipython",
    "version": 3
   },
   "file_extension": ".py",
   "mimetype": "text/x-python",
   "name": "python",
   "nbconvert_exporter": "python",
   "pygments_lexer": "ipython3",
   "version": "3.12.4"
  }
 },
 "nbformat": 4,
 "nbformat_minor": 5
}
