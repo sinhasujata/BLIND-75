{
 "cells": [
  {
   "cell_type": "code",
   "execution_count": null,
   "id": "d5faeb66-11ad-4886-ad13-6b0463faf1aa",
   "metadata": {},
   "outputs": [],
   "source": [
    "# Definition for singly-linked list.\n",
    "# class ListNode:\n",
    "#     def __init__(self, val=0, next=None):\n",
    "#         self.val = val\n",
    "#         self.next = next\n",
    "class Solution:\n",
    "    def mergeTwoLists(self, list1: Optional[ListNode], list2: Optional[ListNode]) -> Optional[ListNode]:\n",
    "        \n",
    "        newList = ListNode(-1)\n",
    "        mergedList = newList\n",
    "        \n",
    "        while list1 and list2:\n",
    "            if list1.val < list2.val:\n",
    "                mergedList.next = list1\n",
    "                list1 = list1.next\n",
    "            else:\n",
    "                mergedList.next = list2\n",
    "                list2 = list2.next\n",
    "            mergedList = mergedList.next\n",
    "            \n",
    "        # if list1:\n",
    "        #     mergedList.next = list1\n",
    "        # elif list2:\n",
    "        #     mergedList.next = list2\n",
    "\n",
    "        mergedList.next  = list1 or list2\n",
    "            \n",
    "        return newList.next\n",
    "            "
   ]
  }
 ],
 "metadata": {
  "kernelspec": {
   "display_name": "Python 3 (ipykernel)",
   "language": "python",
   "name": "python3"
  },
  "language_info": {
   "codemirror_mode": {
    "name": "ipython",
    "version": 3
   },
   "file_extension": ".py",
   "mimetype": "text/x-python",
   "name": "python",
   "nbconvert_exporter": "python",
   "pygments_lexer": "ipython3",
   "version": "3.12.4"
  }
 },
 "nbformat": 4,
 "nbformat_minor": 5
}
