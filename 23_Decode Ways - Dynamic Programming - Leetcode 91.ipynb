{
 "cells": [
  {
   "cell_type": "code",
   "execution_count": null,
   "id": "84ffe9b1-8c35-4cde-96df-f14fcadf03b8",
   "metadata": {},
   "outputs": [],
   "source": [
    "class Solution:\n",
    "    def numDecodings(self, s: str) -> int:\n",
    "        # Reccursion\n",
    "        # less time using functions\n",
    "        dp = {len(s):1}\n",
    "        \n",
    "        def dfs(i):\n",
    "            if i in dp:\n",
    "                return dp[i]\n",
    "            if s[i] == \"0\":\n",
    "                return 0\n",
    "            \n",
    "            result = dfs(i+1)\n",
    "            if (i+1) < len(s) and ((s[i] == \"1\") or (s[i] == \"2\" and s[i+1] in \"0123456\")):\n",
    "                result += dfs(i+2)\n",
    "            dp[i] = result\n",
    "            return result\n",
    "        \n",
    "        return dfs(0)"
   ]
  },
  {
   "cell_type": "code",
   "execution_count": null,
   "id": "f04b3319-76a3-455f-a510-1094b14f2243",
   "metadata": {},
   "outputs": [],
   "source": [
    "class Solution:\n",
    "    def numDecodings(self, s: str) -> int:\n",
    "        # Reurssion\n",
    "        dp = {len(s):1}\n",
    "        \n",
    "        for i in range(len(s)-1,-1,-1):\n",
    "            if s[i] == \"0\":\n",
    "                dp[i] = 0\n",
    "            else:\n",
    "                dp[i] = dp[i+1]\n",
    "                \n",
    "            if (i+1) < len(s) and ((s[i] == \"1\") or (s[i] == \"2\" and s[i+1] in \"0123456\")):\n",
    "                dp[i] += dp[i+2]\n",
    "                \n",
    "        return dp[0]\n",
    "        "
   ]
  }
 ],
 "metadata": {
  "kernelspec": {
   "display_name": "Python 3 (ipykernel)",
   "language": "python",
   "name": "python3"
  },
  "language_info": {
   "codemirror_mode": {
    "name": "ipython",
    "version": 3
   },
   "file_extension": ".py",
   "mimetype": "text/x-python",
   "name": "python",
   "nbconvert_exporter": "python",
   "pygments_lexer": "ipython3",
   "version": "3.12.4"
  }
 },
 "nbformat": 4,
 "nbformat_minor": 5
}
