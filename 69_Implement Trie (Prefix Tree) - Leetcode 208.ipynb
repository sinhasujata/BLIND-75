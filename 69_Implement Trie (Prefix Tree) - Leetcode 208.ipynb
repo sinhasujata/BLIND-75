{
 "cells": [
  {
   "cell_type": "code",
   "execution_count": null,
   "id": "0b674840-ccaf-4ecb-82d4-f2a648953941",
   "metadata": {},
   "outputs": [],
   "source": [
    "class TrieNode:\n",
    "    def __init__(self):\n",
    "        self.children = {}\n",
    "        self.endofWord = False\n",
    "        \n",
    "class Trie:\n",
    "\n",
    "    def __init__(self):\n",
    "        self.root = TrieNode()\n",
    "\n",
    "    def insert(self, word: str) -> None:\n",
    "        cur = self.root\n",
    "        for c in word:\n",
    "            if c not in cur.children:\n",
    "                cur.children[c] = TrieNode()\n",
    "            cur = cur.children[c]\n",
    "        cur.endofWord = True\n",
    "\n",
    "    def search(self, word: str) -> bool:\n",
    "        cur = self.root\n",
    "        \n",
    "        for c in word:\n",
    "            if c not in cur.children:\n",
    "                return False\n",
    "            cur = cur.children[c]\n",
    "        return cur.endofWord\n",
    "\n",
    "    def startsWith(self, prefix: str) -> bool:\n",
    "        cur = self.root\n",
    "        \n",
    "        for c in prefix:\n",
    "            if c not in cur.children:\n",
    "                return False\n",
    "            cur = cur.children[c]\n",
    "        return True\n",
    "        \n",
    "\n",
    "\n",
    "# Your Trie object will be instantiated and called as such:\n",
    "# obj = Trie()\n",
    "# obj.insert(word)\n",
    "# param_2 = obj.search(word)\n",
    "# param_3 = obj.startsWith(prefix)"
   ]
  }
 ],
 "metadata": {
  "kernelspec": {
   "display_name": "Python 3 (ipykernel)",
   "language": "python",
   "name": "python3"
  },
  "language_info": {
   "codemirror_mode": {
    "name": "ipython",
    "version": 3
   },
   "file_extension": ".py",
   "mimetype": "text/x-python",
   "name": "python",
   "nbconvert_exporter": "python",
   "pygments_lexer": "ipython3",
   "version": "3.12.4"
  }
 },
 "nbformat": 4,
 "nbformat_minor": 5
}
