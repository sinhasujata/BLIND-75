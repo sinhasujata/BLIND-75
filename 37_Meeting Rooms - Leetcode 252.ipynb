{
 "cells": [
  {
   "cell_type": "code",
   "execution_count": null,
   "id": "9094849b-0d4d-49bc-bf2f-d092725924a1",
   "metadata": {},
   "outputs": [],
   "source": [
    "class Solution:\n",
    "    def canAttendMeetings(self, intervals: List[List[int]]) -> bool:\n",
    "        if not intervals:\n",
    "            return True\n",
    "        \n",
    "        intervals.sort()\n",
    "        prevEnd = intervals[0][1]\n",
    "        \n",
    "        for start, end in intervals[1:]:\n",
    "            if start < prevEnd:\n",
    "                return False\n",
    "            else:\n",
    "                prevEnd = end\n",
    "            \n",
    "        return True"
   ]
  }
 ],
 "metadata": {
  "kernelspec": {
   "display_name": "Python 3 (ipykernel)",
   "language": "python",
   "name": "python3"
  },
  "language_info": {
   "codemirror_mode": {
    "name": "ipython",
    "version": 3
   },
   "file_extension": ".py",
   "mimetype": "text/x-python",
   "name": "python",
   "nbconvert_exporter": "python",
   "pygments_lexer": "ipython3",
   "version": "3.12.4"
  }
 },
 "nbformat": 4,
 "nbformat_minor": 5
}
