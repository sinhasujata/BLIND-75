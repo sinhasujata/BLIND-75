{
 "cells": [
  {
   "cell_type": "code",
   "execution_count": null,
   "id": "10a09166-9672-4fde-830c-b37be359728a",
   "metadata": {},
   "outputs": [],
   "source": [
    "        # O(n)\n",
    "        dp = [0]*(n+1)\n",
    "        offset = 1\n",
    "\n",
    "        for i in range(1,n+1):\n",
    "            if offset*2 == i:\n",
    "                offset = i\n",
    "            dp[i] = 1 + dp[i-offset]\n",
    "\n",
    "        return dp"
   ]
  }
 ],
 "metadata": {
  "kernelspec": {
   "display_name": "Python 3 (ipykernel)",
   "language": "python",
   "name": "python3"
  },
  "language_info": {
   "codemirror_mode": {
    "name": "ipython",
    "version": 3
   },
   "file_extension": ".py",
   "mimetype": "text/x-python",
   "name": "python",
   "nbconvert_exporter": "python",
   "pygments_lexer": "ipython3",
   "version": "3.12.4"
  }
 },
 "nbformat": 4,
 "nbformat_minor": 5
}
