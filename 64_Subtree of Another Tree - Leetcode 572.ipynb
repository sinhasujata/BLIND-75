{
 "cells": [
  {
   "cell_type": "code",
   "execution_count": null,
   "id": "53402350-b2f6-4552-983f-efba61502259",
   "metadata": {},
   "outputs": [],
   "source": [
    "# Definition for a binary tree node.\n",
    "# class TreeNode:\n",
    "#     def __init__(self, val=0, left=None, right=None):\n",
    "#         self.val = val\n",
    "#         self.left = left\n",
    "#         self.right = right\n",
    "class Solution:\n",
    "    def isSubtree(self, root: Optional[TreeNode], subRoot: Optional[TreeNode]) -> bool:\n",
    "        if not subRoot: return True\n",
    "        if not root: return False\n",
    "        \n",
    "        if self.sameTree(root,subRoot):\n",
    "            return True\n",
    "        return (self.isSubtree(root.left, subRoot) or\n",
    "               self.isSubtree(root.right, subRoot))\n",
    "        \n",
    "        \n",
    "    def sameTree(self, s, t):\n",
    "        if not s and not t:\n",
    "            return True\n",
    "        if s and t and s.val == t.val:\n",
    "            return (self.sameTree(s.left, t.left) and\n",
    "                       self.sameTree(s.right, t.right))\n",
    "        return False\n",
    "        "
   ]
  }
 ],
 "metadata": {
  "kernelspec": {
   "display_name": "Python 3 (ipykernel)",
   "language": "python",
   "name": "python3"
  },
  "language_info": {
   "codemirror_mode": {
    "name": "ipython",
    "version": 3
   },
   "file_extension": ".py",
   "mimetype": "text/x-python",
   "name": "python",
   "nbconvert_exporter": "python",
   "pygments_lexer": "ipython3",
   "version": "3.12.4"
  }
 },
 "nbformat": 4,
 "nbformat_minor": 5
}
