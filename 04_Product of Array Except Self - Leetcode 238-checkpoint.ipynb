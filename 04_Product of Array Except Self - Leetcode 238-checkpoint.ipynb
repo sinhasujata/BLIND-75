{
 "cells": [
  {
   "cell_type": "code",
   "execution_count": null,
   "id": "ff175870-0edb-48de-a09f-23f2a868305d",
   "metadata": {},
   "outputs": [],
   "source": [
    "# using prefix and postfix\n",
    "\n",
    "    result = [1]*len(nums)\n",
    "\n",
    "    prefix = 1\n",
    "    for i in range(nums):\n",
    "        result[i] = prefix\n",
    "        prefix *= nums[i]\n",
    "    postfix = 1\n",
    "\n",
    "    for i in range(len(nums)-1, -1, -1):\n",
    "        result[i] *= postfix\n",
    "        postfix *= nums[i]\n",
    "\n",
    "    return result"
   ]
  }
 ],
 "metadata": {
  "kernelspec": {
   "display_name": "Python 3 (ipykernel)",
   "language": "python",
   "name": "python3"
  },
  "language_info": {
   "codemirror_mode": {
    "name": "ipython",
    "version": 3
   },
   "file_extension": ".py",
   "mimetype": "text/x-python",
   "name": "python",
   "nbconvert_exporter": "python",
   "pygments_lexer": "ipython3",
   "version": "3.12.4"
  }
 },
 "nbformat": 4,
 "nbformat_minor": 5
}
