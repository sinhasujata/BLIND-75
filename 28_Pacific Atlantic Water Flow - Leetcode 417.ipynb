{
 "cells": [
  {
   "cell_type": "code",
   "execution_count": null,
   "id": "48e5bd52-09bd-478c-88db-1c9ceba0bcff",
   "metadata": {},
   "outputs": [],
   "source": [
    "class Solution:\n",
    "    def pacificAtlantic(self, heights: List[List[int]]) -> List[List[int]]:\n",
    "        # start with row0 and go down to find grid from where water can reach pacific ocean\n",
    "        # Likewise go upward and find grid from where water can reach atlantic ocean\n",
    "        # Do the same for col0 for pac ocean and last column for atlantic ocean\n",
    "        # store the coordinates in a set, which are visited so that we don't repeat them\n",
    "        \n",
    "        row, column = len(heights), len(heights[0])\n",
    "        pac, atl = set(), set()\n",
    "        \n",
    "        def dfs(r, c, visitSet, prevHeight):\n",
    "            if ((r,c) in visitSet or\n",
    "               r<0 or c<0 or r==row or c==column or\n",
    "               prevHeight>heights[r][c]):\n",
    "                return\n",
    "            visitSet.add((r,c))\n",
    "            dfs(r+1, c, visitSet, heights[r][c])\n",
    "            dfs(r-1, c, visitSet, heights[r][c])\n",
    "            dfs(r, c+1, visitSet, heights[r][c])\n",
    "            dfs(r, c-1, visitSet, heights[r][c])\n",
    "            \n",
    "        \n",
    "        # We go through all the columns for pac and atlantic ocean\n",
    "        for c in range(column):\n",
    "            dfs(0, c, pac, heights[0][c]) #for pacific ocean starting from row 0\n",
    "            dfs(row-1, c, atl, heights[row-1][c]) #for atlantic ocean starting from last row\n",
    "            \n",
    "        for r in range(row):\n",
    "            dfs(r,0, pac, heights[r][0])\n",
    "            dfs(r, column-1, atl, heights[r][column-1])\n",
    "            \n",
    "        result = []\n",
    "        for r in range(row):\n",
    "            for c in range(column):\n",
    "                if (r,c) in pac and (r,c) in atl:\n",
    "                    result. append([r,c])\n",
    "                    \n",
    "        return result"
   ]
  }
 ],
 "metadata": {
  "kernelspec": {
   "display_name": "Python 3 (ipykernel)",
   "language": "python",
   "name": "python3"
  },
  "language_info": {
   "codemirror_mode": {
    "name": "ipython",
    "version": 3
   },
   "file_extension": ".py",
   "mimetype": "text/x-python",
   "name": "python",
   "nbconvert_exporter": "python",
   "pygments_lexer": "ipython3",
   "version": "3.12.4"
  }
 },
 "nbformat": 4,
 "nbformat_minor": 5
}
