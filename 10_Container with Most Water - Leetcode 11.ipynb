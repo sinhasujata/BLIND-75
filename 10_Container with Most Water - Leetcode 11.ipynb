{
 "cells": [
  {
   "cell_type": "code",
   "execution_count": null,
   "id": "62e75b89-c571-4d62-8b43-5082c809170b",
   "metadata": {},
   "outputs": [],
   "source": [
    "        result = 0\n",
    "        l, r = 0, len(height) - 1\n",
    "\n",
    "        while l < r:\n",
    "            area = (r-l)*min(height[l],height[r])\n",
    "            result = max(area, result)\n",
    "\n",
    "            if height[l] < height[r]:\n",
    "                l += 1\n",
    "            # elif height[l] > height[r]:\n",
    "            #     r -= 1\n",
    "            else:\n",
    "                r -= 1\n",
    "\n",
    "        return result\n"
   ]
  }
 ],
 "metadata": {
  "kernelspec": {
   "display_name": "Python 3 (ipykernel)",
   "language": "python",
   "name": "python3"
  },
  "language_info": {
   "codemirror_mode": {
    "name": "ipython",
    "version": 3
   },
   "file_extension": ".py",
   "mimetype": "text/x-python",
   "name": "python",
   "nbconvert_exporter": "python",
   "pygments_lexer": "ipython3",
   "version": "3.12.4"
  }
 },
 "nbformat": 4,
 "nbformat_minor": 5
}
