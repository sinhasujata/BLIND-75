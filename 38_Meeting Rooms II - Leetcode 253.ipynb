{
 "cells": [
  {
   "cell_type": "code",
   "execution_count": null,
   "id": "036cda16-fced-4fd5-8a65-88de9092f697",
   "metadata": {},
   "outputs": [],
   "source": [
    "class Solution:\n",
    "    def minMeetingRooms(self, intervals: List[List[int]]) -> int:\n",
    "        start = sorted([intervals[i][0] for i in range(len(intervals))])\n",
    "        end = sorted([intervals[i][1] for i in range(len(intervals))])\n",
    "        \n",
    "        result, count = 0, 0\n",
    "        s, e = 0, 0\n",
    "        \n",
    "        while s < len(intervals):\n",
    "            if start[s] < end[e]:\n",
    "                count += 1\n",
    "                s += 1\n",
    "            else:\n",
    "                e += 1\n",
    "                count -= 1\n",
    "            result = max(count, result)\n",
    "            \n",
    "        return result\n",
    "       \n",
    "    "
   ]
  }
 ],
 "metadata": {
  "kernelspec": {
   "display_name": "Python 3 (ipykernel)",
   "language": "python",
   "name": "python3"
  },
  "language_info": {
   "codemirror_mode": {
    "name": "ipython",
    "version": 3
   },
   "file_extension": ".py",
   "mimetype": "text/x-python",
   "name": "python",
   "nbconvert_exporter": "python",
   "pygments_lexer": "ipython3",
   "version": "3.12.4"
  }
 },
 "nbformat": 4,
 "nbformat_minor": 5
}
