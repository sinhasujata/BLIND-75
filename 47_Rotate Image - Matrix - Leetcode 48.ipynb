{
 "cells": [
  {
   "cell_type": "code",
   "execution_count": null,
   "id": "0b8170f2-404e-4e3e-b0b1-c47878c7fc7d",
   "metadata": {},
   "outputs": [],
   "source": [
    "class Solution:\n",
    "    def rotate(self, matrix: List[List[int]]) -> None:\n",
    "        \"\"\"\n",
    "        Do not return anything, modify matrix in-place instead.\n",
    "        \"\"\"\n",
    "        # We start in anti-clockwise order and replace it in clockwise order. \n",
    "        # This is done to avoid 4 extra memories for storing temp variable\n",
    "        \n",
    "        l, r = 0, len(matrix)-1\n",
    "        while l < r:\n",
    "            for i in range(r-l):\n",
    "                top, bottom = l,r\n",
    "                \n",
    "                topleft = matrix[top][l+i] # temp variable\n",
    "                \n",
    "                # shift bottom left to top left\n",
    "                matrix[top][l+i] = matrix[bottom-i][l]\n",
    "                \n",
    "                # shift bottom right to bottom left\n",
    "                matrix[bottom-i][l] = matrix[bottom][r-i]\n",
    "                \n",
    "                # shift top right to bottom right\n",
    "                matrix[bottom][r-i] = matrix[top+i][r]\n",
    "                \n",
    "                # shift top right to top left\n",
    "                matrix[top+i][r] = topleft\n",
    "                \n",
    "            r-=1\n",
    "            l+=1"
   ]
  }
 ],
 "metadata": {
  "kernelspec": {
   "display_name": "Python 3 (ipykernel)",
   "language": "python",
   "name": "python3"
  },
  "language_info": {
   "codemirror_mode": {
    "name": "ipython",
    "version": 3
   },
   "file_extension": ".py",
   "mimetype": "text/x-python",
   "name": "python",
   "nbconvert_exporter": "python",
   "pygments_lexer": "ipython3",
   "version": "3.12.4"
  }
 },
 "nbformat": 4,
 "nbformat_minor": 5
}
