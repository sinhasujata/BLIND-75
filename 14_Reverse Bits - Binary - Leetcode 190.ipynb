{
 "cells": [
  {
   "cell_type": "code",
   "execution_count": null,
   "id": "7abde3b2-e259-451b-92ec-454413991bc6",
   "metadata": {},
   "outputs": [],
   "source": [
    "        result  = 0\n",
    "        \n",
    "        for i in range(32):\n",
    "            bit = (n>>i) & 1\n",
    "            result = result|(bit<<(31-i))\n",
    "            \n",
    "        return result"
   ]
  }
 ],
 "metadata": {
  "kernelspec": {
   "display_name": "Python 3 (ipykernel)",
   "language": "python",
   "name": "python3"
  },
  "language_info": {
   "codemirror_mode": {
    "name": "ipython",
    "version": 3
   },
   "file_extension": ".py",
   "mimetype": "text/x-python",
   "name": "python",
   "nbconvert_exporter": "python",
   "pygments_lexer": "ipython3",
   "version": "3.12.3"
  }
 },
 "nbformat": 4,
 "nbformat_minor": 5
}
