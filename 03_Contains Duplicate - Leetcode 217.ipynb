{
 "cells": [
  {
   "cell_type": "code",
   "execution_count": null,
   "id": "c2d64a49-5c4b-489f-b2a9-6e897339b227",
   "metadata": {},
   "outputs": [],
   "source": [
    "# hashmaps\n",
    "\n",
    "hashset = set()\n",
    "\n",
    "for n in nums:\n",
    "    if n in hashset:\n",
    "        return True\n",
    "    else:\n",
    "        hashset.add(n)\n",
    "return False"
   ]
  }
 ],
 "metadata": {
  "kernelspec": {
   "display_name": "Python 3 (ipykernel)",
   "language": "python",
   "name": "python3"
  },
  "language_info": {
   "codemirror_mode": {
    "name": "ipython",
    "version": 3
   },
   "file_extension": ".py",
   "mimetype": "text/x-python",
   "name": "python",
   "nbconvert_exporter": "python",
   "pygments_lexer": "ipython3",
   "version": "3.12.3"
  }
 },
 "nbformat": 4,
 "nbformat_minor": 5
}
