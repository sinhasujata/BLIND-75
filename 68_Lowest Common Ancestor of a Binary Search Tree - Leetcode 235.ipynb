{
 "cells": [
  {
   "cell_type": "code",
   "execution_count": null,
   "id": "94961b5d-4411-4f96-9aae-cd24bb65f210",
   "metadata": {},
   "outputs": [],
   "source": [
    "# Definition for a binary tree node.\n",
    "# class TreeNode:\n",
    "#     def __init__(self, x):\n",
    "#         self.val = x\n",
    "#         self.left = None\n",
    "#         self.right = None\n",
    "\n",
    "class Solution:\n",
    "    def lowestCommonAncestor(self, root: 'TreeNode', p: 'TreeNode', q: 'TreeNode') -> 'TreeNode':\n",
    "        # O(logn)\n",
    "        \n",
    "        cur = root\n",
    "        while cur:\n",
    "            if p.val < cur.val and q.val < cur.val:\n",
    "                cur = cur.left\n",
    "            elif p.val > cur.val and q.val > cur.val:\n",
    "                cur = cur.right\n",
    "            else:\n",
    "                return cur\n",
    "                "
   ]
  }
 ],
 "metadata": {
  "kernelspec": {
   "display_name": "Python 3 (ipykernel)",
   "language": "python",
   "name": "python3"
  },
  "language_info": {
   "codemirror_mode": {
    "name": "ipython",
    "version": 3
   },
   "file_extension": ".py",
   "mimetype": "text/x-python",
   "name": "python",
   "nbconvert_exporter": "python",
   "pygments_lexer": "ipython3",
   "version": "3.12.4"
  }
 },
 "nbformat": 4,
 "nbformat_minor": 5
}
