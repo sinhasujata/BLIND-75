{
 "cells": [
  {
   "cell_type": "code",
   "execution_count": null,
   "id": "1b4c9f07-d795-4aa1-9c94-8bd6400deb17",
   "metadata": {},
   "outputs": [],
   "source": [
    "# Definition for singly-linked list.\n",
    "# class ListNode:\n",
    "#     def __init__(self, val=0, next=None):\n",
    "#         self.val = val\n",
    "#         self.next = next\n",
    "class Solution:\n",
    "    def removeNthFromEnd(self, head: Optional[ListNode], n: int) -> Optional[ListNode]:\n",
    "        curr = last = head\n",
    "        prev = None\n",
    "        \n",
    "        # get length of LL:\n",
    "        count = 0\n",
    "        while last:\n",
    "            last = last.next\n",
    "            count += 1\n",
    "            \n",
    "        p = count - n\n",
    "        while curr.next and curr.next.next:\n",
    "            if p==0:\n",
    "                curr = curr.next.next\n",
    "                return head\n",
    "            else:\n",
    "                curr = curr.next\n",
    "                p -= 1\n",
    "\n",
    "        if curr.next == None or curr.next.next == None:\n",
    "            curr.next = None\n",
    "            return head\n",
    "        \n",
    "        return head"
   ]
  },
  {
   "cell_type": "code",
   "execution_count": null,
   "id": "e82ccf31-b416-4bac-901b-dd3e3be7f2dd",
   "metadata": {},
   "outputs": [],
   "source": [
    "# Definition for singly-linked list.\n",
    "# class ListNode:\n",
    "#     def __init__(self, val=0, next=None):\n",
    "#         self.val = val\n",
    "#         self.next = next\n",
    "class Solution:\n",
    "    def removeNthFromEnd(self, head: Optional[ListNode], n: int) -> Optional[ListNode]:\n",
    "        # we can run 2 pointers with a gap of n and keep shifting them by one. when the right pointer reaches the end,\n",
    "        # if we start from first node then left pointer will be pointing the node which needs to be removed\n",
    "        # But if me add a dummy node in the beginning and start left pointer fromm that node, left pointer will reach the node\n",
    "        # before nth node\n",
    "        \n",
    "        dummy = ListNode(-1, head)\n",
    "        left = dummy\n",
    "        right = head\n",
    "        \n",
    "        # right pointer at gap of n\n",
    "        while n > 0 and right:\n",
    "            right = right.next\n",
    "            n -= 1\n",
    "            \n",
    "        # start shifting both pointers\n",
    "        while right:\n",
    "            left = left.next\n",
    "            right = right.next\n",
    "            \n",
    "        # delete the node\n",
    "        left.next = left.next.next\n",
    "        \n",
    "        return dummy.next"
   ]
  }
 ],
 "metadata": {
  "kernelspec": {
   "display_name": "Python 3 (ipykernel)",
   "language": "python",
   "name": "python3"
  },
  "language_info": {
   "codemirror_mode": {
    "name": "ipython",
    "version": 3
   },
   "file_extension": ".py",
   "mimetype": "text/x-python",
   "name": "python",
   "nbconvert_exporter": "python",
   "pygments_lexer": "ipython3",
   "version": "3.12.4"
  }
 },
 "nbformat": 4,
 "nbformat_minor": 5
}
