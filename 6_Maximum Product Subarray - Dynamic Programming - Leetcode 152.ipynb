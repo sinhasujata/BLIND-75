{
 "cells": [
  {
   "cell_type": "code",
   "execution_count": null,
   "id": "63e5d7fc-ac45-4531-ad2a-b290f2368fbe",
   "metadata": {},
   "outputs": [],
   "source": [
    "# Dynamic Programming\n",
    "\n",
    "# we store only currMax and currMin\n",
    "\n",
    "        result = max(nums) # if there are negative no also then max is the highest opositive no in array\n",
    "        currMin, currMax = 1,1 #1 is neutral multiplier\n",
    "\n",
    "        for n in nums:\n",
    "            if n==0:\n",
    "                currMin, currmax = 1, 1\n",
    "                continue\n",
    "            temp = currMax*n\n",
    "            currMax = max(currMax*n, n*currMin, n) #[-1,8]\n",
    "            currMin = min(temp, n*currMin, n) #[-1,-8]\n",
    "            result = max(result, currMax)\n",
    "\n",
    "        return result"
   ]
  }
 ],
 "metadata": {
  "kernelspec": {
   "display_name": "Python 3 (ipykernel)",
   "language": "python",
   "name": "python3"
  },
  "language_info": {
   "codemirror_mode": {
    "name": "ipython",
    "version": 3
   },
   "file_extension": ".py",
   "mimetype": "text/x-python",
   "name": "python",
   "nbconvert_exporter": "python",
   "pygments_lexer": "ipython3",
   "version": "3.12.3"
  }
 },
 "nbformat": 4,
 "nbformat_minor": 5
}
