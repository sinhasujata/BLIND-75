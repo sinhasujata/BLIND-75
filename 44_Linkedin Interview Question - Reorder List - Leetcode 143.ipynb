{
 "cells": [
  {
   "cell_type": "code",
   "execution_count": null,
   "id": "40aac8a3-6ef0-4774-9ff9-32322fb77a26",
   "metadata": {},
   "outputs": [],
   "source": [
    "# Definition for singly-linked list.\n",
    "# class ListNode:\n",
    "#     def __init__(self, val=0, next=None):\n",
    "#         self.val = val\n",
    "#         self.next = next\n",
    "class Solution:\n",
    "    def reorderList(self, head: Optional[ListNode]) -> None:\n",
    "        \"\"\"\n",
    "        Do not return anything, modify head in-place instead.\n",
    "        \"\"\"\n",
    "        \n",
    "        # reverse the second half of the list and merge them alternatively\n",
    "        # space: O(1), time: O(n)\n",
    "        \n",
    "        # reversing second half\n",
    "        slow, fast = head, head.next\n",
    "        while fast and fast.next:\n",
    "            slow = slow.next\n",
    "            fast = fast.next.next\n",
    "            \n",
    "        second = slow.next\n",
    "        prev = slow.next = None # separating the two parts\n",
    "        while second:\n",
    "            temp = second.next\n",
    "            second.next = prev\n",
    "            prev = second\n",
    "            second = temp\n",
    "            \n",
    "        # merge two halves\n",
    "        first, second = head, prev\n",
    "        while second:\n",
    "            temp1, temp2 = first.next, second.next\n",
    "            first.next = second\n",
    "            second.next = temp1\n",
    "            first, second = temp1, temp2"
   ]
  }
 ],
 "metadata": {
  "kernelspec": {
   "display_name": "Python 3 (ipykernel)",
   "language": "python",
   "name": "python3"
  },
  "language_info": {
   "codemirror_mode": {
    "name": "ipython",
    "version": 3
   },
   "file_extension": ".py",
   "mimetype": "text/x-python",
   "name": "python",
   "nbconvert_exporter": "python",
   "pygments_lexer": "ipython3",
   "version": "3.12.4"
  }
 },
 "nbformat": 4,
 "nbformat_minor": 5
}
