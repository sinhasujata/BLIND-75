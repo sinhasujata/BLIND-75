{
 "cells": [
  {
   "cell_type": "code",
   "execution_count": null,
   "id": "fedcacde-a28a-4623-bd16-721570deb2c8",
   "metadata": {},
   "outputs": [],
   "source": [
    "class Solution:\n",
    "    def longestPalindrome(self, s: str) -> str:\n",
    "        # checking from center of palidrome\n",
    "        res = \"\"\n",
    "        resLen = 0\n",
    "        \n",
    "        for i in range(len(s)):\n",
    "            # odd palindrome\n",
    "            l, r = i, i\n",
    "            while l>=0 and r<len(s) and s[l]==s[r]:\n",
    "                if (r-l+1) > resLen:\n",
    "                    res = s[l:r+1]\n",
    "                    resLen = r-l+1\n",
    "                l -= 1\n",
    "                r += 1\n",
    "                \n",
    "            # even palindrome\n",
    "            l, r = i, i+1\n",
    "            while l>=0 and r<len(s) and s[l]==s[r]:\n",
    "                if (r-l+1) > resLen:\n",
    "                    res = s[l:r+1]\n",
    "                    resLen = r-l+1\n",
    "                l -= 1\n",
    "                r += 1\n",
    "                \n",
    "        return res"
   ]
  }
 ],
 "metadata": {
  "kernelspec": {
   "display_name": "Python 3 (ipykernel)",
   "language": "python",
   "name": "python3"
  },
  "language_info": {
   "codemirror_mode": {
    "name": "ipython",
    "version": 3
   },
   "file_extension": ".py",
   "mimetype": "text/x-python",
   "name": "python",
   "nbconvert_exporter": "python",
   "pygments_lexer": "ipython3",
   "version": "3.12.4"
  }
 },
 "nbformat": 4,
 "nbformat_minor": 5
}
