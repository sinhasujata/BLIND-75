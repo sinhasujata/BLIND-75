{
 "cells": [
  {
   "cell_type": "code",
   "execution_count": null,
   "id": "cb3e678e-682c-4d2c-a0ec-173ea578811c",
   "metadata": {},
   "outputs": [],
   "source": [
    "class Solution:\n",
    "    def canJump(self, nums: List[int]) -> bool:\n",
    "        # Greedy Solution\n",
    "        # We start with the last index as goal and start looking backwards\n",
    "        # If from the index before the goal, we are able to reach the goal, then we shift the goal to last second\n",
    "        # e.g., [2,3,1,1,4], here we can reach 4th index from 3 and 3rd index from 2, after shifting the goal to 2, \n",
    "        # we can reach 2nd index from 1st (no need to take 3 steps, 1 step is enough)\n",
    "        \n",
    "        goal = len(nums) - 1\n",
    "        \n",
    "        for i in range(len(nums)-1, -1, -1):\n",
    "            if i + nums[i] >= goal:\n",
    "                goal = i\n",
    "                \n",
    "        return True if goal == 0 else False"
   ]
  }
 ],
 "metadata": {
  "kernelspec": {
   "display_name": "Python 3 (ipykernel)",
   "language": "python",
   "name": "python3"
  },
  "language_info": {
   "codemirror_mode": {
    "name": "ipython",
    "version": 3
   },
   "file_extension": ".py",
   "mimetype": "text/x-python",
   "name": "python",
   "nbconvert_exporter": "python",
   "pygments_lexer": "ipython3",
   "version": "3.12.4"
  }
 },
 "nbformat": 4,
 "nbformat_minor": 5
}
