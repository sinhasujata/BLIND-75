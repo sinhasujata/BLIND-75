{
 "cells": [
  {
   "cell_type": "code",
   "execution_count": null,
   "id": "f9ec6720-0134-410d-9438-72cf3de6bf41",
   "metadata": {},
   "outputs": [],
   "source": [
    "# 2 pointers\n",
    "\n",
    "left, right = 0, 1\n",
    "maxP = 0\n",
    "\n",
    "while right < len(prices):\n",
    "    if prices[left] < prices[right]:\n",
    "        profit = prices[right] - prices[left]\n",
    "        maxP = max(profit, maxP)\n",
    "    else:\n",
    "        left = right\n",
    "    right += 1\n",
    "\n",
    "return maxP"
   ]
  }
 ],
 "metadata": {
  "kernelspec": {
   "display_name": "Python 3 (ipykernel)",
   "language": "python",
   "name": "python3"
  },
  "language_info": {
   "codemirror_mode": {
    "name": "ipython",
    "version": 3
   },
   "file_extension": ".py",
   "mimetype": "text/x-python",
   "name": "python",
   "nbconvert_exporter": "python",
   "pygments_lexer": "ipython3",
   "version": "3.12.3"
  }
 },
 "nbformat": 4,
 "nbformat_minor": 5
}
