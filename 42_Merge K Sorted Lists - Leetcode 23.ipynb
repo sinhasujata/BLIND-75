{
 "cells": [
  {
   "cell_type": "code",
   "execution_count": null,
   "id": "836e408c-da35-4729-8fbb-02217ad22daa",
   "metadata": {},
   "outputs": [],
   "source": [
    "# Definition for singly-linked list.\n",
    "# class ListNode:\n",
    "#     def __init__(self, val=0, next=None):\n",
    "#         self.val = val\n",
    "#         self.next = next\n",
    "class Solution:\n",
    "    def mergeKLists(self, lists: List[Optional[ListNode]]) -> Optional[ListNode]:\n",
    "        if not lists or len(lists) == 0:\n",
    "            return None\n",
    "        \n",
    "        # we will take pairs of linked list and merge till only one list is remaining\n",
    "        while len(lists) > 1:\n",
    "            mergedLists = []\n",
    "            \n",
    "            for i in range(0, len(lists), 2):\n",
    "                l1 = lists[i]\n",
    "                l2 = lists[i+1] if (i+1)<len(lists) else None\n",
    "                mergedLists.append(self.mergeList(l1,l2))\n",
    "            lists = mergedLists\n",
    "            \n",
    "        return lists[0]\n",
    "        \n",
    "    def mergeList(self, l1, l2):\n",
    "        newList = ListNode(-1)\n",
    "        dummy = newList\n",
    "            \n",
    "        while l1 and l2:\n",
    "            if l1.val < l2.val:\n",
    "                dummy.next = l1\n",
    "                l1 = l1.next\n",
    "            else:\n",
    "                dummy.next = l2\n",
    "                l2 = l2.next\n",
    "            dummy = dummy.next\n",
    "                \n",
    "        dummy.next = l1 or l2\n",
    "            \n",
    "        return newList.next\n",
    "            \n",
    "                    "
   ]
  }
 ],
 "metadata": {
  "kernelspec": {
   "display_name": "Python 3 (ipykernel)",
   "language": "python",
   "name": "python3"
  },
  "language_info": {
   "codemirror_mode": {
    "name": "ipython",
    "version": 3
   },
   "file_extension": ".py",
   "mimetype": "text/x-python",
   "name": "python",
   "nbconvert_exporter": "python",
   "pygments_lexer": "ipython3",
   "version": "3.12.4"
  }
 },
 "nbformat": 4,
 "nbformat_minor": 5
}
