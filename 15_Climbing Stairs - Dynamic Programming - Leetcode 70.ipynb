{
 "cells": [
  {
   "cell_type": "code",
   "execution_count": null,
   "id": "772ffaef-5225-4a2f-97f5-ad5f5b50d1fd",
   "metadata": {},
   "outputs": [],
   "source": [
    "# Dynamic Problem\n",
    "        last, second_last = 1,1\n",
    "        \n",
    "        for i in range(n-1):\n",
    "            temp = second_last\n",
    "            second_last = last + second_last\n",
    "            last = temp\n",
    "            \n",
    "        return second_last"
   ]
  }
 ],
 "metadata": {
  "kernelspec": {
   "display_name": "Python 3 (ipykernel)",
   "language": "python",
   "name": "python3"
  },
  "language_info": {
   "codemirror_mode": {
    "name": "ipython",
    "version": 3
   },
   "file_extension": ".py",
   "mimetype": "text/x-python",
   "name": "python",
   "nbconvert_exporter": "python",
   "pygments_lexer": "ipython3",
   "version": "3.12.4"
  }
 },
 "nbformat": 4,
 "nbformat_minor": 5
}
