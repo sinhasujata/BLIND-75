{
 "cells": [
  {
   "cell_type": "code",
   "execution_count": null,
   "id": "c33ddbc8-2f01-439b-b57c-ee7687cbbc41",
   "metadata": {},
   "outputs": [],
   "source": [
    "        dp = [amount + 1]*(amount+1)\n",
    "        dp[0] = 0\n",
    "        \n",
    "        for a in range(1, amount+1):\n",
    "            for c in coins:\n",
    "                if a-c >= 0:\n",
    "                    dp[a] = min(dp[a], 1+dp[a-c])\n",
    "                    \n",
    "        return dp[amount] if dp[amount] != amount+1 else -1\n",
    "        "
   ]
  }
 ],
 "metadata": {
  "kernelspec": {
   "display_name": "Python 3 (ipykernel)",
   "language": "python",
   "name": "python3"
  },
  "language_info": {
   "codemirror_mode": {
    "name": "ipython",
    "version": 3
   },
   "file_extension": ".py",
   "mimetype": "text/x-python",
   "name": "python",
   "nbconvert_exporter": "python",
   "pygments_lexer": "ipython3",
   "version": "3.12.4"
  }
 },
 "nbformat": 4,
 "nbformat_minor": 5
}
