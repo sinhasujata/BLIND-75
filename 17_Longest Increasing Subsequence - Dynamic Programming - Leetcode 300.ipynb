{
 "cells": [
  {
   "cell_type": "code",
   "execution_count": null,
   "id": "4221c75e-0d03-421e-a387-eb21c0ffe0e8",
   "metadata": {},
   "outputs": [],
   "source": [
    "# O(n^2)\n",
    "        LIS = [1]*len(nums)\n",
    "        \n",
    "        for i in range(len(nums)-1, -1, -1):\n",
    "            for j in range(i+1, len(nums)):\n",
    "                if nums[i] < nums[j]:\n",
    "                    LIS[i] = max(LIS[i], 1 + LIS[j])\n",
    "                    \n",
    "        return max(LIS)"
   ]
  }
 ],
 "metadata": {
  "kernelspec": {
   "display_name": "Python 3 (ipykernel)",
   "language": "python",
   "name": "python3"
  },
  "language_info": {
   "codemirror_mode": {
    "name": "ipython",
    "version": 3
   },
   "file_extension": ".py",
   "mimetype": "text/x-python",
   "name": "python",
   "nbconvert_exporter": "python",
   "pygments_lexer": "ipython3",
   "version": "3.12.4"
  }
 },
 "nbformat": 4,
 "nbformat_minor": 5
}
