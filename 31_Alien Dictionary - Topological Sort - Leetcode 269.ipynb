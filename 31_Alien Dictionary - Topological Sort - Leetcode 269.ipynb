{
 "cells": [
  {
   "cell_type": "code",
   "execution_count": null,
   "id": "7f19a7d2-8081-4075-ac0c-6e277f92e63e",
   "metadata": {},
   "outputs": [],
   "source": [
    "class Solution:\n",
    "    def alienOrder(self, words: List[str]) -> str:\n",
    "        # create an adjeccy list\n",
    "        adj = {c: set() for w in words for c in w}\n",
    "\n",
    "        for i in range(len(words) - 1):\n",
    "            w1, w2 = words[i], words[i+1]\n",
    "            minLen = min(len(w1), len(w2))\n",
    "            # edge case: if theer is repettion of word\n",
    "            if len(w1) > len(w2) and w1[:minLen] == w2[:minLen]:\n",
    "                return \"\"\n",
    "\n",
    "            for j in range(minLen):\n",
    "                if w1[j] != w2[j]:\n",
    "                    adj[w1[j]].add(w2[j])\n",
    "                    break\n",
    "\n",
    "        visit = {} # False = visited, True = in current path\n",
    "        res = [] # we maintain this in reverse order\n",
    "\n",
    "        def dfs(c):\n",
    "            if c in visit:\n",
    "                return visit[c]\n",
    "            visit[c] = True # added char to visit and is now in current path\n",
    "\n",
    "            for nei in adj[c]:\n",
    "                if dfs(nei):\n",
    "                    return True\n",
    "                    \n",
    "            visit[c] = False # now c is not in current path\n",
    "            res.append(c)\n",
    "\n",
    "        for c in adj:\n",
    "            if dfs(c):\n",
    "                return \"\"\n",
    "\n",
    "        res.reverse()\n",
    "        return \"\".join(res)\n",
    "\n",
    " \n"
   ]
  }
 ],
 "metadata": {
  "kernelspec": {
   "display_name": "Python 3 (ipykernel)",
   "language": "python",
   "name": "python3"
  },
  "language_info": {
   "codemirror_mode": {
    "name": "ipython",
    "version": 3
   },
   "file_extension": ".py",
   "mimetype": "text/x-python",
   "name": "python",
   "nbconvert_exporter": "python",
   "pygments_lexer": "ipython3",
   "version": "3.12.3"
  }
 },
 "nbformat": 4,
 "nbformat_minor": 5
}
