{
 "cells": [
  {
   "cell_type": "code",
   "execution_count": null,
   "id": "f2484c77-a728-4e22-a17d-0cf3af17aa9d",
   "metadata": {},
   "outputs": [],
   "source": [
    "class Solution:\n",
    "    def uniquePaths(self, m: int, n: int) -> int:\n",
    "        row = [1]*n\n",
    "        \n",
    "        for i in range(m-1):\n",
    "            new_row = [1]*n\n",
    "            for j in range(n-2,-1,-1):\n",
    "                new_row[j] = new_row[j+1] + row[j]\n",
    "            row = new_row\n",
    "            \n",
    "        return row[0]"
   ]
  }
 ],
 "metadata": {
  "kernelspec": {
   "display_name": "Python 3 (ipykernel)",
   "language": "python",
   "name": "python3"
  },
  "language_info": {
   "codemirror_mode": {
    "name": "ipython",
    "version": 3
   },
   "file_extension": ".py",
   "mimetype": "text/x-python",
   "name": "python",
   "nbconvert_exporter": "python",
   "pygments_lexer": "ipython3",
   "version": "3.12.4"
  }
 },
 "nbformat": 4,
 "nbformat_minor": 5
}
