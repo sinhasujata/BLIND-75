{
 "cells": [
  {
   "cell_type": "code",
   "execution_count": null,
   "id": "49e9d56b-c6f9-4b28-9d82-4bdb348579e5",
   "metadata": {},
   "outputs": [],
   "source": [
    "class Solution:\n",
    "    def validTree(self, n: int, edges: List[List[int]]) -> bool:\n",
    "        # check if all noes are connected and there is no loop present\n",
    "        \n",
    "        if not n:\n",
    "            return True\n",
    "        \n",
    "        adj = {i:[] for i in range(n)}\n",
    "        for n1, n2 in edges:\n",
    "            adj[n1].append(n2)\n",
    "            adj[n2].append(n1)\n",
    "            \n",
    "        visit = set()\n",
    "        def dfs(i, prev):\n",
    "            if i in visit: #Loop\n",
    "                return False\n",
    "            \n",
    "            visit.add(i)\n",
    "            for j in adj[i]: #for neighbours of i\n",
    "                if j==prev:\n",
    "                    continue\n",
    "                if not dfs(j, i): #if not the previous node where we came from then check for j with previous node as i\n",
    "                    return False #then this detects loop, if not false then we continue the loop to check other neighbours\n",
    "            return True\n",
    "        \n",
    "        return dfs(0,-1) and n==len(visit)"
   ]
  }
 ],
 "metadata": {
  "kernelspec": {
   "display_name": "Python 3 (ipykernel)",
   "language": "python",
   "name": "python3"
  },
  "language_info": {
   "codemirror_mode": {
    "name": "ipython",
    "version": 3
   },
   "file_extension": ".py",
   "mimetype": "text/x-python",
   "name": "python",
   "nbconvert_exporter": "python",
   "pygments_lexer": "ipython3",
   "version": "3.12.4"
  }
 },
 "nbformat": 4,
 "nbformat_minor": 5
}
