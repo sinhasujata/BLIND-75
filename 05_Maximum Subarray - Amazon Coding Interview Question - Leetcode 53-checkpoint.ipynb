{
 "cells": [
  {
   "cell_type": "code",
   "execution_count": null,
   "id": "d7b8723c-33e5-476d-b396-1381117f8271",
   "metadata": {},
   "outputs": [],
   "source": [
    "# Sliding window O(n)\n",
    "        maxSum = nums[0]\n",
    "        currSum = 0\n",
    "\n",
    "        for n in nums:\n",
    "            if currSum < 0:\n",
    "                currSum = 0\n",
    "            currSum += n\n",
    "            maxSum = max(currSum, maxSum)\n",
    "        return maxSum"
   ]
  }
 ],
 "metadata": {
  "kernelspec": {
   "display_name": "Python 3 (ipykernel)",
   "language": "python",
   "name": "python3"
  },
  "language_info": {
   "codemirror_mode": {
    "name": "ipython",
    "version": 3
   },
   "file_extension": ".py",
   "mimetype": "text/x-python",
   "name": "python",
   "nbconvert_exporter": "python",
   "pygments_lexer": "ipython3",
   "version": "3.12.4"
  }
 },
 "nbformat": 4,
 "nbformat_minor": 5
}
