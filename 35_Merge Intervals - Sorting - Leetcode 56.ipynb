{
 "cells": [
  {
   "cell_type": "code",
   "execution_count": null,
   "id": "822e0970-7c01-4a69-8292-b9969b199e7d",
   "metadata": {},
   "outputs": [],
   "source": [
    "class Solution:\n",
    "    def merge(self, intervals: List[List[int]]) -> List[List[int]]:\n",
    "        # intervals are not sorted\n",
    "        intervals.sort(key = lambda i:i[0]) #sort the intervals by start value\n",
    "        output = [intervals[0]]\n",
    "        \n",
    "        for start, end in intervals[1:]:\n",
    "            prevOut = output[-1][1]\n",
    "            \n",
    "            if start <= prevOut:\n",
    "                output[-1][1] = max(prevOut, end) #overlapping intervals\n",
    "            else:\n",
    "                output.append([start,end]) # non overlapping\n",
    "                \n",
    "        return output\n",
    "        "
   ]
  }
 ],
 "metadata": {
  "kernelspec": {
   "display_name": "Python 3 (ipykernel)",
   "language": "python",
   "name": "python3"
  },
  "language_info": {
   "codemirror_mode": {
    "name": "ipython",
    "version": 3
   },
   "file_extension": ".py",
   "mimetype": "text/x-python",
   "name": "python",
   "nbconvert_exporter": "python",
   "pygments_lexer": "ipython3",
   "version": "3.12.4"
  }
 },
 "nbformat": 4,
 "nbformat_minor": 5
}
