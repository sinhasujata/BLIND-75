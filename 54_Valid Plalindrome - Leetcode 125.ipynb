{
 "cells": [
  {
   "cell_type": "code",
   "execution_count": null,
   "id": "eb525723-cf24-441b-b177-12c8862a1f0c",
   "metadata": {},
   "outputs": [],
   "source": [
    "class Solution:\n",
    "    def isPalindrome(self, s: str) -> bool:\n",
    "        \n",
    "        #merge and lowercase\n",
    "        # alphanum num also included\n",
    "        s = ''.join(filter(lambda c:c.isalnum(), s))\n",
    "        # s = s.lower()\n",
    "        \n",
    "        #reverse string and join\n",
    "        left, right = 0, len(s)-1\n",
    "        \n",
    "        while left < right:\n",
    "            if s[right].lower() != s[left].lower():\n",
    "                return False\n",
    "            else:\n",
    "                left += 1\n",
    "                right -= 1\n",
    "        return True"
   ]
  },
  {
   "cell_type": "code",
   "execution_count": null,
   "id": "c0fe4279-cb0e-41b9-939f-9ccc5f833591",
   "metadata": {},
   "outputs": [],
   "source": [
    "class Solution:\n",
    "    def isPalindrome(self, s: str) -> bool:\n",
    "        \n",
    "        #merge and lowercase\n",
    "        # alphanum num also included\n",
    "        s = ''.join(filter(lambda c:c.isalnum(), s))\n",
    "        s = s.lower()\n",
    "        \n",
    "        return s==s[::-1]"
   ]
  }
 ],
 "metadata": {
  "kernelspec": {
   "display_name": "Python 3 (ipykernel)",
   "language": "python",
   "name": "python3"
  },
  "language_info": {
   "codemirror_mode": {
    "name": "ipython",
    "version": 3
   },
   "file_extension": ".py",
   "mimetype": "text/x-python",
   "name": "python",
   "nbconvert_exporter": "python",
   "pygments_lexer": "ipython3",
   "version": "3.12.4"
  }
 },
 "nbformat": 4,
 "nbformat_minor": 5
}
