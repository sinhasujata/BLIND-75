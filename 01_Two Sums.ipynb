{
 "cells": [
  {
   "cell_type": "code",
   "execution_count": 1,
   "id": "0ae90cc9-a2e5-4566-995f-45a39e4c75f8",
   "metadata": {},
   "outputs": [],
   "source": [
    "# Hashmaps\n",
    "# Using Hashmaps we find the values in one pass\n",
    "# start adding first element with index in hashmaps and find if the complement of the value exists in hashmaps\n",
    "# if complement exists return index of both elemnts, else, go to the next element\n"
   ]
  },
  {
   "cell_type": "code",
   "execution_count": null,
   "id": "29847f61-99e2-4095-8362-4f2bf30b26d1",
   "metadata": {},
   "outputs": [],
   "source": [
    "class Solutions:\n",
    "    def twoSum(self, nums: List[int], target: int) -> List[int]:\n",
    "\n",
    "        prevMap = {} # value: index\n",
    "        for i, n in enumerate(nums):\n",
    "            if (target - n) in prevMap:\n",
    "                return [i, prevMap[target-n]] \n",
    "            else:\n",
    "                prevMap[n] = i"
   ]
  }
 ],
 "metadata": {
  "kernelspec": {
   "display_name": "Python 3 (ipykernel)",
   "language": "python",
   "name": "python3"
  },
  "language_info": {
   "codemirror_mode": {
    "name": "ipython",
    "version": 3
   },
   "file_extension": ".py",
   "mimetype": "text/x-python",
   "name": "python",
   "nbconvert_exporter": "python",
   "pygments_lexer": "ipython3",
   "version": "3.12.3"
  }
 },
 "nbformat": 4,
 "nbformat_minor": 5
}
