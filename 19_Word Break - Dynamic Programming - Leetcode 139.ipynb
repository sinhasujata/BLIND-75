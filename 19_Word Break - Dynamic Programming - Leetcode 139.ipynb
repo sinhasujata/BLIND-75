{
 "cells": [
  {
   "cell_type": "code",
   "execution_count": null,
   "id": "f245935e-3c8a-4b81-b588-ebfc5836ee0c",
   "metadata": {},
   "outputs": [],
   "source": [
    "        dp = [False]*(len(s)+1)\n",
    "        dp[len(s)] = True\n",
    "        \n",
    "        for i in range(len(s)-1,-1,-1):\n",
    "            for w in wordDict:\n",
    "                if (i + len(w) <= len(s)) and s[i:i+len(w)] == w:\n",
    "                    dp[i] = dp[i + len(w)]\n",
    "                if dp[i]:\n",
    "                    break\n",
    "                    \n",
    "        return dp[0]"
   ]
  }
 ],
 "metadata": {
  "kernelspec": {
   "display_name": "Python 3 (ipykernel)",
   "language": "python",
   "name": "python3"
  },
  "language_info": {
   "codemirror_mode": {
    "name": "ipython",
    "version": 3
   },
   "file_extension": ".py",
   "mimetype": "text/x-python",
   "name": "python",
   "nbconvert_exporter": "python",
   "pygments_lexer": "ipython3",
   "version": "3.12.4"
  }
 },
 "nbformat": 4,
 "nbformat_minor": 5
}
