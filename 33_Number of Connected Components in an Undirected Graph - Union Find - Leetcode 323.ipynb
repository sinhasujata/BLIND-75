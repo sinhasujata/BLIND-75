{
 "cells": [
  {
   "cell_type": "markdown",
   "id": "b2a6b797-0dd8-4905-a4ca-5f2520f04491",
   "metadata": {},
   "source": [
    "# Union Find"
   ]
  },
  {
   "cell_type": "code",
   "execution_count": null,
   "id": "b7348599-ac10-4826-93f9-425e1bac39cc",
   "metadata": {},
   "outputs": [],
   "source": [
    "class Solution:\n",
    "    def countComponents(self, n: int, edges: List[List[int]]) -> int:\n",
    "        \n",
    "        # we can do it by visiting all nodes and verticesand that will have O(E+V) time complexity\n",
    "        # we can also do this by UNION FIND\n",
    "        \n",
    "        # parent array will have values of each node given\n",
    "        # initially each node is a parent of itself\n",
    "        # When we connect a node, then we make have parent node in between 2 nodes.\n",
    "        \n",
    "        # We make a rank array where we store the size of the tree (nodes connected to the parent + 1)\n",
    "        # we connect the node with small rank to the one with bigger (undirected graph)\n",
    "        # e.g.: we connect 0 (parent) and 1, then rank of 0 is 2, when we check 2 (init rank:1), we find 1 has rank 1 and it's \n",
    "        # connected to 0 with rank 2, so we directly connect 2 to 0 even though it is connected to 1\n",
    "        # this increases rank of 0 to 3\n",
    "        # this is done to make height of tree shorter\n",
    "        \n",
    "        # we init started with no of edges, then we decrement it by 1 each time we merge, so total 3 times we merged, so ans is 2\n",
    "        \n",
    "        par = [i for i in range(n)]\n",
    "        rank = [1]*n\n",
    "        \n",
    "        # find the root parent for the node\n",
    "        def find(n1):\n",
    "            \n",
    "            res = n1\n",
    "            while res != par[res]:\n",
    "                par[res] = par[par[res]] # map it with the grandparent if it exists\n",
    "                res = par[res]\n",
    "            \n",
    "            return res\n",
    "        \n",
    "        def union(n1, n2):\n",
    "            p1, p2 = find(n1), find(n2) # find their parent nodes\n",
    "            \n",
    "            if p1 == p2:\n",
    "                return 0\n",
    "            if rank[p1] > rank[p2]:\n",
    "                par[p2] = p1\n",
    "                rank[p2] += 1\n",
    "            else:\n",
    "                par[p1] = p2\n",
    "                rank[p1] += 1\n",
    "                \n",
    "            return 1\n",
    "        \n",
    "        result = n\n",
    "        for n1, n2 in edges:\n",
    "            result -= union(n1, n2)\n",
    "            \n",
    "        return result\n",
    "    \n",
    "    \n",
    "        "
   ]
  }
 ],
 "metadata": {
  "kernelspec": {
   "display_name": "Python 3 (ipykernel)",
   "language": "python",
   "name": "python3"
  },
  "language_info": {
   "codemirror_mode": {
    "name": "ipython",
    "version": 3
   },
   "file_extension": ".py",
   "mimetype": "text/x-python",
   "name": "python",
   "nbconvert_exporter": "python",
   "pygments_lexer": "ipython3",
   "version": "3.12.4"
  }
 },
 "nbformat": 4,
 "nbformat_minor": 5
}
