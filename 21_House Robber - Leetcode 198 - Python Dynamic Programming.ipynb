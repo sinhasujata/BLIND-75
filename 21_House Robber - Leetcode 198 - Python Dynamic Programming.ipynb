{
 "cells": [
  {
   "cell_type": "code",
   "execution_count": null,
   "id": "e82d0c9a-d282-44bf-8d41-d0fb64346331",
   "metadata": {},
   "outputs": [],
   "source": [
    "        house1, house2 = 0, 0\n",
    "        \n",
    "        # [house1, house2, n, n+1, ....]\n",
    "        for n in nums:\n",
    "            temp = max(house1+n, house2)\n",
    "            house1 = house2\n",
    "            house2 = temp\n",
    "            \n",
    "        return house2"
   ]
  }
 ],
 "metadata": {
  "kernelspec": {
   "display_name": "Python 3 (ipykernel)",
   "language": "python",
   "name": "python3"
  },
  "language_info": {
   "codemirror_mode": {
    "name": "ipython",
    "version": 3
   },
   "file_extension": ".py",
   "mimetype": "text/x-python",
   "name": "python",
   "nbconvert_exporter": "python",
   "pygments_lexer": "ipython3",
   "version": "3.12.4"
  }
 },
 "nbformat": 4,
 "nbformat_minor": 5
}
