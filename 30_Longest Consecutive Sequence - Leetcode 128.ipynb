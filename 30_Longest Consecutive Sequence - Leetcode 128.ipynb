{
 "cells": [
  {
   "cell_type": "code",
   "execution_count": null,
   "id": "45f2c217-13c5-4ef5-87d9-ec0b743c2051",
   "metadata": {},
   "outputs": [],
   "source": [
    "class Solution:\n",
    "    def longestConsecutive(self, nums: List[int]) -> int:\n",
    "        if not nums:\n",
    "            return 0\n",
    "\n",
    "        numSet = set(nums)\n",
    "        longest = 1\n",
    "        \n",
    "        for n in numSet:\n",
    "            if (n-1) not in numSet:\n",
    "                length = 1\n",
    "                while (n+length) in numSet:\n",
    "                    length += 1\n",
    "                    longest = max(length,longest)\n",
    "        return longest\n",
    "                "
   ]
  }
 ],
 "metadata": {
  "kernelspec": {
   "display_name": "Python 3 (ipykernel)",
   "language": "python",
   "name": "python3"
  },
  "language_info": {
   "codemirror_mode": {
    "name": "ipython",
    "version": 3
   },
   "file_extension": ".py",
   "mimetype": "text/x-python",
   "name": "python",
   "nbconvert_exporter": "python",
   "pygments_lexer": "ipython3",
   "version": "3.12.3"
  }
 },
 "nbformat": 4,
 "nbformat_minor": 5
}
