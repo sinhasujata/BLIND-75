{
 "cells": [
  {
   "cell_type": "code",
   "execution_count": null,
   "id": "ba5993e5-6ec8-4b2c-8f6e-a6e7e5d074cf",
   "metadata": {},
   "outputs": [],
   "source": [
    "        # O(n) n is max 32\n",
    "        # result = 0\n",
    "        # while n:\n",
    "        #     result += n%2\n",
    "        #     n = n >> 1\n",
    "\n",
    "        result = 0\n",
    "        while n:\n",
    "            n &= (n-1)\n",
    "            result += 1\n",
    "        return result"
   ]
  }
 ],
 "metadata": {
  "kernelspec": {
   "display_name": "Python 3 (ipykernel)",
   "language": "python",
   "name": "python3"
  },
  "language_info": {
   "codemirror_mode": {
    "name": "ipython",
    "version": 3
   },
   "file_extension": ".py",
   "mimetype": "text/x-python",
   "name": "python",
   "nbconvert_exporter": "python",
   "pygments_lexer": "ipython3",
   "version": "3.12.4"
  }
 },
 "nbformat": 4,
 "nbformat_minor": 5
}
