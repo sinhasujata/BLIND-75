{
 "cells": [
  {
   "cell_type": "code",
   "execution_count": null,
   "id": "a213d728-8cb9-4c02-b71d-f2a237338ad5",
   "metadata": {},
   "outputs": [],
   "source": [
    "class Solution:\n",
    "    def spiralOrder(self, matrix: List[List[int]]) -> List[int]:\n",
    "        # T: O(m*n) S: O(1)\n",
    "        left, right = 0, len(matrix[0])\n",
    "        top, bottom = 0, len(matrix)\n",
    "        \n",
    "        res = []\n",
    "        \n",
    "        while left < right and top < bottom:\n",
    "            # get all values in top row:\n",
    "            for i in range(left, right):\n",
    "                res.append(matrix[top][i])\n",
    "            top += 1 # completed the top row\n",
    "            \n",
    "            # get all values of last column\n",
    "            for i in range(top, bottom):\n",
    "                res.append(matrix[i][right-1])\n",
    "            right -= 1\n",
    "            \n",
    "            if not (left < right and top < bottom):\n",
    "                break\n",
    "                \n",
    "            # get all values of last row\n",
    "            for i in range(right-1, left-1, -1):\n",
    "                res.append(matrix[bottom-1][i])\n",
    "            bottom -= 1\n",
    "            \n",
    "            # get all values of first column\n",
    "            for i in range(bottom-1, top-1, -1):\n",
    "                res.append(matrix[i][left])\n",
    "            left += 1\n",
    "            \n",
    "        return res"
   ]
  }
 ],
 "metadata": {
  "kernelspec": {
   "display_name": "Python 3 (ipykernel)",
   "language": "python",
   "name": "python3"
  },
  "language_info": {
   "codemirror_mode": {
    "name": "ipython",
    "version": 3
   },
   "file_extension": ".py",
   "mimetype": "text/x-python",
   "name": "python",
   "nbconvert_exporter": "python",
   "pygments_lexer": "ipython3",
   "version": "3.12.4"
  }
 },
 "nbformat": 4,
 "nbformat_minor": 5
}
