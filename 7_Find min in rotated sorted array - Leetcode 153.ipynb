{
 "cells": [
  {
   "cell_type": "code",
   "execution_count": null,
   "id": "99e42518-4d94-42b2-9105-159f8def04ca",
   "metadata": {},
   "outputs": [],
   "source": [
    "class Solution:\n",
    "    def findMin(self, nums: List[int]) -> int:\n",
    "        res = nums[0]\n",
    "        l, r = 0, len(nums) - 1\n",
    "\n",
    "        while l<=r:\n",
    "            if nums[l] < nums[r]:\n",
    "                res = min(res, nums[l])\n",
    "                break\n",
    "\n",
    "            m = (l+r)//2\n",
    "            res = min(res, nums[m])\n",
    "\n",
    "            if nums[l] <= nums[m]:\n",
    "                l = m+1\n",
    "            else:\n",
    "                r = m-1\n",
    "\n",
    "        return res"
   ]
  }
 ],
 "metadata": {
  "kernelspec": {
   "display_name": "Python 3 (ipykernel)",
   "language": "python",
   "name": "python3"
  },
  "language_info": {
   "codemirror_mode": {
    "name": "ipython",
    "version": 3
   },
   "file_extension": ".py",
   "mimetype": "text/x-python",
   "name": "python",
   "nbconvert_exporter": "python",
   "pygments_lexer": "ipython3",
   "version": "3.12.3"
  }
 },
 "nbformat": 4,
 "nbformat_minor": 5
}
