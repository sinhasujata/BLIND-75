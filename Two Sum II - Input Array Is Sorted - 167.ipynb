{
 "cells": [
  {
   "cell_type": "code",
   "execution_count": null,
   "id": "d38495cc-386e-4646-8bb3-fec3902104d5",
   "metadata": {},
   "outputs": [],
   "source": [
    "# Two Sum II - Input Array Is Sorted - Problem 167\n",
    "            result = []\n",
    "        l, r = 0, len(numbers) - 1\n",
    "        \n",
    "        for i, n in enumerate(numbers):\n",
    "            while l < r:\n",
    "                twoSums = numbers[l] + numbers[r]\n",
    "                \n",
    "                if twoSums > target:\n",
    "                    r -= 1\n",
    "                elif twoSums < target:\n",
    "                    l += 1\n",
    "                else:\n",
    "                    result.append(l+1)\n",
    "                    result.append(r+1)\n",
    "                    \n",
    "                    return result"
   ]
  }
 ],
 "metadata": {
  "kernelspec": {
   "display_name": "Python 3 (ipykernel)",
   "language": "python",
   "name": "python3"
  },
  "language_info": {
   "codemirror_mode": {
    "name": "ipython",
    "version": 3
   },
   "file_extension": ".py",
   "mimetype": "text/x-python",
   "name": "python",
   "nbconvert_exporter": "python",
   "pygments_lexer": "ipython3",
   "version": "3.12.3"
  }
 },
 "nbformat": 4,
 "nbformat_minor": 5
}
