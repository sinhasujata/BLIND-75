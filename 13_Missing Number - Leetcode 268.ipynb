{
 "cells": [
  {
   "cell_type": "code",
   "execution_count": null,
   "id": "33290732-2ef1-4231-9604-171dd42fa239",
   "metadata": {},
   "outputs": [],
   "source": [
    "        result = len(nums)\n",
    "        \n",
    "        for i in range(0, len(nums)):\n",
    "            result += (i - nums[i])\n",
    "            \n",
    "        return result"
   ]
  },
  {
   "cell_type": "code",
   "execution_count": null,
   "id": "93caaa4a-b86b-4294-ae3c-6435681846be",
   "metadata": {},
   "outputs": [],
   "source": [
    "        nums.sort()\n",
    "        for i in range(0,len(nums)):\n",
    "            if nums[i] != i:\n",
    "                return i\n",
    "        return i+1"
   ]
  }
 ],
 "metadata": {
  "kernelspec": {
   "display_name": "Python 3 (ipykernel)",
   "language": "python",
   "name": "python3"
  },
  "language_info": {
   "codemirror_mode": {
    "name": "ipython",
    "version": 3
   },
   "file_extension": ".py",
   "mimetype": "text/x-python",
   "name": "python",
   "nbconvert_exporter": "python",
   "pygments_lexer": "ipython3",
   "version": "3.12.4"
  }
 },
 "nbformat": 4,
 "nbformat_minor": 5
}
