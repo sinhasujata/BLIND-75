{
 "cells": [
  {
   "cell_type": "code",
   "execution_count": null,
   "id": "33a24bf5-b43f-4cff-a9b3-1882289913a1",
   "metadata": {},
   "outputs": [],
   "source": [
    "class Solution:\n",
    "    def characterReplacement(self, s: str, k: int) -> int:\n",
    "        # we can replace with any of the 26 alphabets. So we count length of window - no of max repeating char.\n",
    "        # if that no is less than or equal to k, we can consider the window.\n",
    "        # we want to max our length of the window and also max the max freq\n",
    "        # our result only changes when we increase the max freq\n",
    "        \n",
    "        count = {} # hashmap for counting the no of occurence of each char\n",
    "        res = 0\n",
    "        maxf = 0\n",
    "        l = 0\n",
    "        for r in range(len(s)):\n",
    "            count[s[r]] = 1 + count.get(s[r], 0)\n",
    "            maxf = max(maxf, count[s[r]])\n",
    "            \n",
    "            # check if this is a valid window\n",
    "            while (r-l+1) - maxf > k:\n",
    "                count[s[l]] -= 1\n",
    "                l += 1\n",
    "            res = max(res, r-l+1)\n",
    "        return res"
   ]
  }
 ],
 "metadata": {
  "kernelspec": {
   "display_name": "Python 3 (ipykernel)",
   "language": "python",
   "name": "python3"
  },
  "language_info": {
   "codemirror_mode": {
    "name": "ipython",
    "version": 3
   },
   "file_extension": ".py",
   "mimetype": "text/x-python",
   "name": "python",
   "nbconvert_exporter": "python",
   "pygments_lexer": "ipython3",
   "version": "3.12.4"
  }
 },
 "nbformat": 4,
 "nbformat_minor": 5
}
