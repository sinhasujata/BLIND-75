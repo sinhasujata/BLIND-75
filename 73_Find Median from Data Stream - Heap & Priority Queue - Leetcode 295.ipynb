{
 "cells": [
  {
   "cell_type": "code",
   "execution_count": null,
   "id": "a1d6128f-2edc-4ceb-a635-8755e14cf31e",
   "metadata": {},
   "outputs": [],
   "source": [
    "class MedianFinder:\n",
    "\n",
    "    def __init__(self):\n",
    "        # two  heaps, large - minheap, small - maxheap\n",
    "        # heap should be equal size\n",
    "        self.small, self.large = [], []\n",
    "        \n",
    "    def addNum(self, num: int) -> None:\n",
    "        heapq.heappush(self.small, -1*num)\n",
    "        \n",
    "        # make sure every element in small < = every element in large\n",
    "        if (self.small and self.large and\n",
    "           (-1*self.small[0] > self.large[0])):\n",
    "            val = -1*heapq.heappop(self.small)\n",
    "            heapq.heappush(self.large, val)\n",
    "        \n",
    "        # if size uneven\n",
    "        if len(self.small) > len(self.large)+1:\n",
    "            val = -1*heapq.heappop(self.small)\n",
    "            heapq.heappush(self.large, val)\n",
    "            \n",
    "        if len(self.large) > len(self.small):\n",
    "            val = heapq.heappop(self.large)\n",
    "            heapq.heappush(self.small, -1*val)\n",
    "\n",
    "    def findMedian(self) -> float:\n",
    "        if len(self.small) > len(self.large):\n",
    "            return -1*self.small[0]\n",
    "        if len(self.large) > len(self.small):\n",
    "            return self.large[0]\n",
    "        \n",
    "        return (-1*self.small[0] + self.large[0])/2\n",
    "\n",
    "\n",
    "# Your MedianFinder object will be instantiated and called as such:\n",
    "# obj = MedianFinder()\n",
    "# obj.addNum(num)\n",
    "# param_2 = obj.findMedian()"
   ]
  }
 ],
 "metadata": {
  "kernelspec": {
   "display_name": "Python 3 (ipykernel)",
   "language": "python",
   "name": "python3"
  },
  "language_info": {
   "codemirror_mode": {
    "name": "ipython",
    "version": 3
   },
   "file_extension": ".py",
   "mimetype": "text/x-python",
   "name": "python",
   "nbconvert_exporter": "python",
   "pygments_lexer": "ipython3",
   "version": "3.12.4"
  }
 },
 "nbformat": 4,
 "nbformat_minor": 5
}
