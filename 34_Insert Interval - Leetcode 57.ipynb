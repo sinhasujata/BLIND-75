{
 "cells": [
  {
   "cell_type": "code",
   "execution_count": null,
   "id": "bcfa1ddc-30cb-4bfa-bc0b-5037ca1adba1",
   "metadata": {},
   "outputs": [],
   "source": [
    "class Solution:\n",
    "    def insert(self, intervals: List[List[int]], newInterval: List[int]) -> List[List[int]]:\n",
    "        result = []\n",
    "        \n",
    "        for i in range(len(intervals)):\n",
    "            # edge case: if new interval is before the starting of next interval\n",
    "            if newInterval[1] < intervals[i][0]:\n",
    "                result.append(newInterval)\n",
    "                return result + intervals[i:]\n",
    "            elif newInterval[0] > intervals[i][1]:\n",
    "                result.append(intervals[i])\n",
    "            else: # overlapping\n",
    "                newInterval = [min(newInterval[0],intervals[i][0]), max(newInterval[1],intervals[i][1])]\n",
    "                \n",
    "        result.append(newInterval)\n",
    "        return result"
   ]
  }
 ],
 "metadata": {
  "kernelspec": {
   "display_name": "Python 3 (ipykernel)",
   "language": "python",
   "name": "python3"
  },
  "language_info": {
   "codemirror_mode": {
    "name": "ipython",
    "version": 3
   },
   "file_extension": ".py",
   "mimetype": "text/x-python",
   "name": "python",
   "nbconvert_exporter": "python",
   "pygments_lexer": "ipython3",
   "version": "3.12.4"
  }
 },
 "nbformat": 4,
 "nbformat_minor": 5
}
