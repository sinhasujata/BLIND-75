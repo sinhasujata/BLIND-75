{
 "cells": [
  {
   "cell_type": "code",
   "execution_count": null,
   "id": "5dbe776b-4bca-450c-8477-2d30ba4b36ca",
   "metadata": {},
   "outputs": [],
   "source": [
    "class Solution:\n",
    "    def exist(self, board: List[List[str]], word: str) -> bool:\n",
    "        # T: O(m*n*(4^len(word)))\n",
    "        \n",
    "        row, col = len(board), len(board[0])\n",
    "        path = set()\n",
    "        \n",
    "        def dfs(r, c, i):\n",
    "            if i == len(word):\n",
    "                return True\n",
    "            if (r<0 or c<0 or\n",
    "               r>= row or c >= col or\n",
    "               word[i] != board[r][c] or\n",
    "               (r,c) in path):\n",
    "                return False\n",
    "            \n",
    "            path.add((r,c))\n",
    "            \n",
    "            res = (dfs(r-1 ,c, i+1) or\n",
    "                  dfs(r+1 ,c, i+1) or\n",
    "                  dfs(r ,c-1, i+1) or\n",
    "                  dfs(r ,c+1, i+1))\n",
    "            path.remove((r,c))\n",
    "            return res\n",
    "        \n",
    "        for r in range(row):\n",
    "            for c in range(col):\n",
    "                if dfs(r,c,0): return True\n",
    "                \n",
    "        return False"
   ]
  }
 ],
 "metadata": {
  "kernelspec": {
   "display_name": "Python 3 (ipykernel)",
   "language": "python",
   "name": "python3"
  },
  "language_info": {
   "codemirror_mode": {
    "name": "ipython",
    "version": 3
   },
   "file_extension": ".py",
   "mimetype": "text/x-python",
   "name": "python",
   "nbconvert_exporter": "python",
   "pygments_lexer": "ipython3",
   "version": "3.12.4"
  }
 },
 "nbformat": 4,
 "nbformat_minor": 5
}
