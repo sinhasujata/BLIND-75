{
 "cells": [
  {
   "cell_type": "code",
   "execution_count": 1,
   "id": "6352c8d6-b337-47ed-8559-bd1e927e215f",
   "metadata": {},
   "outputs": [],
   "source": [
    "# binary Search\n",
    "# If middle value is greater then or equal to left, tehn middle value is in left sorted part"
   ]
  },
  {
   "cell_type": "code",
   "execution_count": null,
   "id": "6050dba9-3734-463b-a526-af451d59c8c5",
   "metadata": {},
   "outputs": [],
   "source": [
    "        l, r = 0, len(nums)-1\n",
    "        while l <= r:\n",
    "            mid = (l+r)//2\n",
    "            if target == nums[mid]:\n",
    "                return mid\n",
    "            # left sorted portion\n",
    "            if nums[l] <= nums[mid]:\n",
    "                if target > nums[mid] or target < nums[l]:\n",
    "                    l = mid+1\n",
    "                else:\n",
    "                    r = mid - 1\n",
    "            # Right sorted portion\n",
    "            else:\n",
    "                if target < nums[mid] or target > nums[r]:\n",
    "                    r = mid - 1\n",
    "                else:\n",
    "                    l = mid + 1\n",
    "        return -1"
   ]
  }
 ],
 "metadata": {
  "kernelspec": {
   "display_name": "Python 3 (ipykernel)",
   "language": "python",
   "name": "python3"
  },
  "language_info": {
   "codemirror_mode": {
    "name": "ipython",
    "version": 3
   },
   "file_extension": ".py",
   "mimetype": "text/x-python",
   "name": "python",
   "nbconvert_exporter": "python",
   "pygments_lexer": "ipython3",
   "version": "3.12.3"
  }
 },
 "nbformat": 4,
 "nbformat_minor": 5
}
