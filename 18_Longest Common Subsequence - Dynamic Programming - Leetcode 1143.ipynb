{
 "cells": [
  {
   "cell_type": "code",
   "execution_count": null,
   "id": "f020e9a4-debb-4311-b4f1-3024c38889cf",
   "metadata": {},
   "outputs": [],
   "source": [
    "        dp = [[0 for j in range(len(text2)+1)] for i in range(len(text1)+1)]\n",
    "        \n",
    "        for i in range(len(text1) - 1,-1,-1):\n",
    "            for j in range(len(text2)-1, -1, -1):\n",
    "                if text1[i] == text2[j]:\n",
    "                    dp[i][j] = 1+dp[i+1][j+1]\n",
    "                else:\n",
    "                    dp[i][j] = max(dp[i+1][j], dp[i][j+1])\n",
    "                    \n",
    "        return dp[0][0]"
   ]
  }
 ],
 "metadata": {
  "kernelspec": {
   "display_name": "Python 3 (ipykernel)",
   "language": "python",
   "name": "python3"
  },
  "language_info": {
   "codemirror_mode": {
    "name": "ipython",
    "version": 3
   },
   "file_extension": ".py",
   "mimetype": "text/x-python",
   "name": "python",
   "nbconvert_exporter": "python",
   "pygments_lexer": "ipython3",
   "version": "3.12.4"
  }
 },
 "nbformat": 4,
 "nbformat_minor": 5
}
