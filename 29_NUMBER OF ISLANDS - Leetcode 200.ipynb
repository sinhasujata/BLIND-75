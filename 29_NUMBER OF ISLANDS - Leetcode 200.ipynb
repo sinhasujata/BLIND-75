{
 "cells": [
  {
   "cell_type": "code",
   "execution_count": null,
   "id": "48e5bd52-09bd-478c-88db-1c9ceba0bcff",
   "metadata": {},
   "outputs": [],
   "source": [
    "class Solution:\n",
    "    def numIslands(self, grid: List[List[str]]) -> int:\n",
    "        # BFS\n",
    "        # Queue\n",
    "        \n",
    "        if not grid:\n",
    "            return 0\n",
    "        \n",
    "        rows, columns = len(grid), len(grid[0])\n",
    "        visit = set()\n",
    "        island = 0\n",
    "        \n",
    "        def bfs(r,c):\n",
    "            # bfs is not recurssion problem, it is iterative and we need a queue\n",
    "            q = collections.deque()\n",
    "            visit.add((r,c))\n",
    "            q.append((r,c))\n",
    "            \n",
    "            while q:\n",
    "                row, col = q.popleft()\n",
    "                directions = [[1,0],[-1,0],[0,1],[0,-1]]\n",
    "                for dr, dc in directions:\n",
    "                    r, c = row + dr, col + dc\n",
    "                    if (r in range(rows) and \n",
    "                        c in range(columns) and\n",
    "                        grid[r][c] == \"1\" and\n",
    "                        (r,c) not in visit):\n",
    "                        q.append((r,c))\n",
    "                        visit.add((r,c))\n",
    "        \n",
    "        for r in range(rows):\n",
    "            for c in range(columns):\n",
    "                if grid[r][c] == \"1\" and (r,c) not in visit:\n",
    "                    bfs(r,c)\n",
    "                    island += 1\n",
    "                    \n",
    "        return island\n",
    "        "
   ]
  }
 ],
 "metadata": {
  "kernelspec": {
   "display_name": "Python 3 (ipykernel)",
   "language": "python",
   "name": "python3"
  },
  "language_info": {
   "codemirror_mode": {
    "name": "ipython",
    "version": 3
   },
   "file_extension": ".py",
   "mimetype": "text/x-python",
   "name": "python",
   "nbconvert_exporter": "python",
   "pygments_lexer": "ipython3",
   "version": "3.12.4"
  }
 },
 "nbformat": 4,
 "nbformat_minor": 5
}
