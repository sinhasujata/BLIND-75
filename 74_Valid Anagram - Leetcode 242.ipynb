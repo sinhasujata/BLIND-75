{
 "cells": [
  {
   "cell_type": "code",
   "execution_count": null,
   "id": "fac22fb5-32e3-4abd-befa-6809556d8b12",
   "metadata": {},
   "outputs": [],
   "source": [
    "class Solution:\n",
    "    def isAnagram(self, s: str, t: str) -> bool:\n",
    "        \n",
    "        s_count = collections.Counter(s)\n",
    "        for ch in t:\n",
    "            if s_count[ch] > 0:\n",
    "                s_count[ch] -= 1\n",
    "            else:\n",
    "                return False\n",
    "            \n",
    "        if all(value == 0 for value in s_count.values()):\n",
    "            return True\n",
    "        else:\n",
    "            return False"
   ]
  },
  {
   "cell_type": "code",
   "execution_count": null,
   "id": "7282d34e-44a7-4b46-b2f6-fe6e3dc98220",
   "metadata": {},
   "outputs": [],
   "source": [
    "class Solution:\n",
    "    def isAnagram(self, s: str, t: str) -> bool:\n",
    "        return Counter(s) == Counter(t)"
   ]
  },
  {
   "cell_type": "code",
   "execution_count": null,
   "id": "83415067-3659-43d9-88ac-bba131c455d1",
   "metadata": {},
   "outputs": [],
   "source": [
    "class Solution:\n",
    "    def isAnagram(self, s: str, t: str) -> bool:\n",
    "        return sorted(s) == sorted(t)"
   ]
  }
 ],
 "metadata": {
  "kernelspec": {
   "display_name": "Python 3 (ipykernel)",
   "language": "python",
   "name": "python3"
  },
  "language_info": {
   "codemirror_mode": {
    "name": "ipython",
    "version": 3
   },
   "file_extension": ".py",
   "mimetype": "text/x-python",
   "name": "python",
   "nbconvert_exporter": "python",
   "pygments_lexer": "ipython3",
   "version": "3.12.4"
  }
 },
 "nbformat": 4,
 "nbformat_minor": 5
}
